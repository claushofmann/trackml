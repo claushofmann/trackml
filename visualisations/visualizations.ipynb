{
 "cells": [
  {
   "cell_type": "code",
   "execution_count": 22,
   "metadata": {},
   "outputs": [],
   "source": [
    "import sys\n",
    "sys.path.append('../')\n",
    "import load_data_luigi as ld\n",
    "import pandas as pd\n",
    "import numpy as np\n",
    "from sklearn.preprocessing import StandardScaler\n",
    "import matplotlib.pyplot as plt\n",
    "import seaborn as sns"
   ]
  },
  {
   "cell_type": "markdown",
   "metadata": {},
   "source": [
    "# Feature variability"
   ]
  },
  {
   "cell_type": "code",
   "execution_count": 2,
   "metadata": {},
   "outputs": [
    {
     "name": "stderr",
     "output_type": "stream",
     "text": [
      "/Users/claus/anaconda3/envs/tf2/lib/python3.7/site-packages/luigi/parameter.py:283: UserWarning: Parameter \"event_id\" with value \"1325\" is not of type string.\n",
      "  warnings.warn('Parameter \"{}\" with value \"{}\" is not of type string.'.format(param_name, param_value))\n",
      "/Users/claus/anaconda3/envs/tf2/lib/python3.7/site-packages/luigi/parameter.py:283: UserWarning: Parameter \"create_from\" with value \"RootDetectorFiles(event_id=1325)\" is not of type string.\n",
      "  warnings.warn('Parameter \"{}\" with value \"{}\" is not of type string.'.format(param_name, param_value))\n"
     ]
    }
   ],
   "source": [
    "data = ld.RootDetectorFiles(event_id=1325)\n",
    "data = ld.CreateAngles(create_from=data)"
   ]
  },
  {
   "cell_type": "code",
   "execution_count": 3,
   "metadata": {},
   "outputs": [
    {
     "name": "stderr",
     "output_type": "stream",
     "text": [
      "DEBUG: Checking if CreateAngles(create_from=RootDetectorFiles(event_id=1325)) is complete\n",
      "INFO: Informed scheduler that task   CreateAngles_RootDetectorFile_0aeef28717   has status   DONE\n",
      "INFO: Done scheduling tasks\n",
      "INFO: Running Worker with 1 processes\n",
      "DEBUG: Asking scheduler for work...\n",
      "DEBUG: Done\n",
      "DEBUG: There are no more tasks to run at this time\n",
      "INFO: Worker Worker(salt=594709474, workers=1, host=Clauss-MacBook-Pro.local, username=claus, pid=56618) was stopped. Shutting down Keep-Alive thread\n",
      "INFO: \n",
      "===== Luigi Execution Summary =====\n",
      "\n",
      "Scheduled 1 tasks of which:\n",
      "* 1 complete ones were encountered:\n",
      "    - 1 CreateAngles(create_from=RootDetectorFiles(event_id=1325))\n",
      "\n",
      "Did not run any tasks\n",
      "This progress looks :) because there were no failed tasks or missing dependencies\n",
      "\n",
      "===== Luigi Execution Summary =====\n",
      "\n"
     ]
    }
   ],
   "source": [
    "hits, cells, particles, truth = data.load()"
   ]
  },
  {
   "cell_type": "code",
   "execution_count": 4,
   "metadata": {},
   "outputs": [],
   "source": [
    "merged = hits.merge(truth, on='hit_id')"
   ]
  },
  {
   "cell_type": "code",
   "execution_count": 5,
   "metadata": {},
   "outputs": [],
   "source": [
    "state_components = ['x', 'y', 'z', 'phi', 'theta']\n",
    "scaled_state = StandardScaler().fit_transform(merged[state_components])"
   ]
  },
  {
   "cell_type": "code",
   "execution_count": 6,
   "metadata": {},
   "outputs": [],
   "source": [
    "merged_scaled = merged.copy()\n",
    "merged_scaled[state_components] = scaled_state"
   ]
  },
  {
   "cell_type": "code",
   "execution_count": 7,
   "metadata": {},
   "outputs": [],
   "source": [
    "particle_std_devs = []\n",
    "for _, group in merged_scaled.groupby('particle_id'):\n",
    "    particle_std_devs.append(np.std(group[state_components]))\n",
    "particle_std_devs = np.array(particle_std_devs)"
   ]
  },
  {
   "cell_type": "code",
   "execution_count": 8,
   "metadata": {},
   "outputs": [
    {
     "data": {
      "text/plain": [
       "Text(0,0.5,'Variability in [σ]')"
      ]
     },
     "execution_count": 8,
     "metadata": {},
     "output_type": "execute_result"
    },
    {
     "data": {
      "image/png": "[encoded data removed]",
      "text/plain": [
       "<Figure size 720x360 with 1 Axes>"
      ]
     },
     "metadata": {
      "needs_background": "light"
     },
     "output_type": "display_data"
    }
   ],
   "source": [
    "plt.figure(figsize=(10,5))\n",
    "sns.boxplot(data=pd.DataFrame(particle_std_devs, columns=state_components))\n",
    "plt.ylabel('Variability in [σ]')"
   ]
  },
  {
   "cell_type": "code",
   "execution_count": 9,
   "metadata": {},
   "outputs": [
    {
     "data": {
      "text/plain": [
       "(10428, 5)"
      ]
     },
     "execution_count": 9,
     "metadata": {},
     "output_type": "execute_result"
    }
   ],
   "source": [
    "particle_std_devs.shape"
   ]
  },
  {
   "cell_type": "markdown",
   "metadata": {},
   "source": [
    "# Linear assignment problem"
   ]
  },
  {
   "cell_type": "code",
   "execution_count": 5,
   "metadata": {},
   "outputs": [],
   "source": [
    "from association.association_row_col import RowColumnDenseAssociation\n",
    "from association.new_lstm import AssociationLstm\n",
    "from network_configuration import TrackerConfiguration\n",
    "import tensorflow as tf\n",
    "from scipy.optimize import linear_sum_assignment"
   ]
  },
  {
   "cell_type": "code",
   "execution_count": 6,
   "metadata": {},
   "outputs": [],
   "source": [
    "row_col_config = TrackerConfiguration(total_no_particles=30,\n",
    "                                      total_no_measurements=30,\n",
    "                                      assoc_dense_row_col_no_layers = 1)"
   ]
  },
  {
   "cell_type": "code",
   "execution_count": 7,
   "metadata": {},
   "outputs": [],
   "source": [
    "row_col_model = tf.keras.Sequential([\n",
    "    RowColumnDenseAssociation(row_col_config),\n",
    "    tf.keras.layers.Softmax()\n",
    "                                    ])\n",
    "row_col_model.compile('adam', loss=tf.keras.losses.CategoricalCrossentropy(), metrics='accuracy')"
   ]
  },
  {
   "cell_type": "code",
   "execution_count": 8,
   "metadata": {},
   "outputs": [],
   "source": [
    "def generate_linear_assignment_problem(no_rows, no_cols, batch_size=None):\n",
    "    if batch_size is None:\n",
    "        return np.random.uniform(-1., 0., [no_rows, no_cols])\n",
    "    else:\n",
    "        return np.random.uniform(-1., 0., [batch_size, no_rows, no_cols])\n",
    "\n",
    "def solve_linear_assignment_problem(problem, batch_size=None):\n",
    "    if batch_size is None:\n",
    "        row_ind, col_ind = linear_sum_assignment(problem)\n",
    "        solution = np.zeros_like(problem, dtype=np.int32)\n",
    "        solution[row_ind, col_ind] = 1\n",
    "    else:\n",
    "        solution = []\n",
    "        for i, batch in enumerate(problem):\n",
    "            row_ind, col_ind = linear_sum_assignment(batch)\n",
    "            batch_matrix = np.zeros_like(batch, dtype=np.int32)\n",
    "            batch_matrix[row_ind, col_ind] = 1\n",
    "            solution.append(batch_matrix)\n",
    "        solution = np.stack(solution, axis=0)\n",
    "    return solution\n",
    "\n",
    "def generate_linear_assignment_problems(no_rows, no_cols, c=None, return_truth=True, batch_size=None):\n",
    "    i = 0\n",
    "    while True:\n",
    "        problem = generate_linear_assignment_problem(no_rows, no_cols, batch_size=batch_size)\n",
    "        if return_truth:\n",
    "            solution = solve_linear_assignment_problem(problem, batch_size=batch_size)\n",
    "            yield problem, solution\n",
    "        else:\n",
    "            yield problem\n",
    "        i = i + 1\n",
    "        if c is not None:\n",
    "            if i >= c:\n",
    "                return"
   ]
  },
  {
   "cell_type": "code",
   "execution_count": 14,
   "metadata": {
    "scrolled": true
   },
   "outputs": [
    {
     "name": "stdout",
     "output_type": "stream",
     "text": [
      "50000/50000 [==============================] - 242s 5ms/step - loss: 1.2230 - accuracy: 0.5309\n"
     ]
    },
    {
     "data": {
      "text/plain": [
       "<tensorflow.python.keras.callbacks.History at 0x7fdf3636e390>"
      ]
     },
     "execution_count": 14,
     "metadata": {},
     "output_type": "execute_result"
    }
   ],
   "source": [
    "row_col_model.fit(generate_linear_assignment_problems(30, 30, batch_size=16), batch_size=16, epochs=1, steps_per_epoch=50000)"
   ]
  },
  {
   "cell_type": "code",
   "execution_count": 15,
   "metadata": {},
   "outputs": [
    {
     "name": "stdout",
     "output_type": "stream",
     "text": [
      "200/200 [==============================] - 1s 5ms/step - loss: 1.1415 - accuracy: 0.5441\n"
     ]
    },
    {
     "data": {
      "text/plain": [
       "[1.141472339630127, 0.5440624952316284]"
      ]
     },
     "execution_count": 15,
     "metadata": {},
     "output_type": "execute_result"
    }
   ],
   "source": [
    "row_col_model.evaluate(generate_linear_assignment_problems(30, 30, batch_size=16), batch_size=16, steps=200)"
   ]
  },
  {
   "cell_type": "code",
   "execution_count": 9,
   "metadata": {},
   "outputs": [],
   "source": [
    "lstm_config = TrackerConfiguration(total_no_particles=30,\n",
    "                                   total_no_measurements=30,\n",
    "                                   assoc_lstm_hidden_units=30*30,\n",
    "                                   \n",
    "                                   assoc_dense_row_col_no_layers = 1)\n",
    "lstm_model = tf.keras.Sequential([\n",
    "    tf.keras.layers.Permute((2,1)),\n",
    "    AssociationLstm(lstm_config),\n",
    "    tf.keras.layers.Permute((2,1)),\n",
    "    tf.keras.layers.Softmax()\n",
    "])\n",
    "lstm_model.compile('rmsprop', loss=tf.keras.losses.CategoricalCrossentropy(), metrics='accuracy')"
   ]
  },
  {
   "cell_type": "code",
   "execution_count": 17,
   "metadata": {},
   "outputs": [
    {
     "name": "stdout",
     "output_type": "stream",
     "text": [
      "50000/50000 [==============================] - 988s 20ms/step - loss: 1.5174 - accuracy: 0.4884\n"
     ]
    },
    {
     "data": {
      "text/plain": [
       "<tensorflow.python.keras.callbacks.History at 0x7fdf2c152510>"
      ]
     },
     "execution_count": 17,
     "metadata": {},
     "output_type": "execute_result"
    }
   ],
   "source": [
    "lstm_model.fit(generate_linear_assignment_problems(30, 30, batch_size=16), batch_size=16, epochs=1, steps_per_epoch=50000)"
   ]
  },
  {
   "cell_type": "code",
   "execution_count": 18,
   "metadata": {},
   "outputs": [
    {
     "name": "stdout",
     "output_type": "stream",
     "text": [
      "200/200 [==============================] - 2s 11ms/step - loss: 1.1414 - accuracy: 0.5687\n"
     ]
    },
    {
     "data": {
      "text/plain": [
       "[1.1414340734481812, 0.5687395930290222]"
      ]
     },
     "execution_count": 18,
     "metadata": {},
     "output_type": "execute_result"
    }
   ],
   "source": [
    "lstm_model.evaluate(generate_linear_assignment_problems(30, 30, batch_size=16), batch_size=16, steps=200)"
   ]
  },
  {
   "cell_type": "code",
   "execution_count": 10,
   "metadata": {},
   "outputs": [],
   "source": [
    "class AssocMilanLstm(AssociationLstm):\n",
    "    def call(self, c_matrix):\n",
    "        c_matrix_input = tf.reshape(c_matrix, [tf.shape(c_matrix)[0], -1])\n",
    "        c_matrix_input = tf.tile(tf.expand_dims(c_matrix_input, axis=1), [1, self.no_particles, 1])\n",
    "        c_matrix_input = tf.reshape(c_matrix_input, [tf.shape(c_matrix)[0], self.no_particles, self.no_particles * self.no_measurements])\n",
    "        lstm_output = c_matrix_input\n",
    "        for lstm, nn in zip(self.lstms, self.nns):\n",
    "            lstm_output = lstm(lstm_output)\n",
    "            lstm_output = nn(lstm_output)\n",
    "        return lstm_output\n",
    "\n",
    "lstm_milan_layer = AssocMilanLstm(lstm_config)\n",
    "\n",
    "lstm_milan_model = tf.keras.Sequential([\n",
    "    lstm_milan_layer,\n",
    "    tf.keras.layers.Softmax()\n",
    "])\n",
    "\n",
    "lstm_milan_model.compile('rmsprop', loss=tf.keras.losses.CategoricalCrossentropy(), metrics='accuracy')"
   ]
  },
  {
   "cell_type": "code",
   "execution_count": 20,
   "metadata": {},
   "outputs": [
    {
     "name": "stdout",
     "output_type": "stream",
     "text": [
      "50000/50000 [==============================] - 1084s 22ms/step - loss: 3.3966 - accuracy: 0.0363\n"
     ]
    },
    {
     "data": {
      "text/plain": [
       "<tensorflow.python.keras.callbacks.History at 0x7fdf2c13a990>"
      ]
     },
     "execution_count": 20,
     "metadata": {},
     "output_type": "execute_result"
    }
   ],
   "source": [
    "lstm_milan_model.fit(generate_linear_assignment_problems(30, 30, batch_size=16), batch_size=16, epochs=1, steps_per_epoch=50000)"
   ]
  },
  {
   "cell_type": "code",
   "execution_count": 21,
   "metadata": {},
   "outputs": [
    {
     "name": "stdout",
     "output_type": "stream",
     "text": [
      "200/200 [==============================] - 2s 11ms/step - loss: 3.3927 - accuracy: 0.0391\n"
     ]
    },
    {
     "data": {
      "text/plain": [
       "[3.392688035964966, 0.039104167371988297]"
      ]
     },
     "execution_count": 21,
     "metadata": {},
     "output_type": "execute_result"
    }
   ],
   "source": [
    "lstm_milan_model.evaluate(generate_linear_assignment_problems(30, 30, batch_size=16), batch_size=16, steps=200)"
   ]
  },
  {
   "cell_type": "code",
   "execution_count": 11,
   "metadata": {},
   "outputs": [
    {
     "name": "stdout",
     "output_type": "stream",
     "text": [
      "200/200 [==============================] - 1s 3ms/step - loss: 2.9925 - accuracy: 0.5217\n"
     ]
    },
    {
     "data": {
      "text/plain": [
       "[2.992452383041382, 0.5217499732971191]"
      ]
     },
     "execution_count": 11,
     "metadata": {},
     "output_type": "execute_result"
    }
   ],
   "source": [
    "class Negative(tf.keras.layers.Layer):\n",
    "    def call(self, inp):\n",
    "        return -inp\n",
    "\n",
    "identity_model = tf.keras.Sequential([Negative(), tf.keras.layers.Softmax()])\n",
    "identity_model.compile('adam', loss=tf.keras.losses.CategoricalCrossentropy(), metrics='accuracy')\n",
    "identity_model.evaluate(generate_linear_assignment_problems(30, 30, batch_size=16), batch_size=16, steps=200)"
   ]
  },
  {
   "cell_type": "code",
   "execution_count": 12,
   "metadata": {},
   "outputs": [],
   "source": [
    "def get_losses_and_accuracies(model, steps=5000):\n",
    "    problems = list(generate_linear_assignment_problems(30, 30, batch_size=1, c=steps))\n",
    "    Xs = [problem[0] for problem in problems]\n",
    "    Ys = [problem[1] for problem in problems]\n",
    "    evaluation = [model.evaluate(x, y, verbose=False) for x, y in zip(Xs, Ys)]\n",
    "    #losses = tf.keras.losses.CategoricalCrossentropy()(Ys, prediction)\n",
    "    #accuracies = tf.keras.metrics.Accuracy()(Ys, prediction)\n",
    "    losses = [e[0] for e in evaluation]\n",
    "    accuracies = [e[1] for e in evaluation]\n",
    "    return losses, accuracies"
   ]
  },
  {
   "cell_type": "code",
   "execution_count": 27,
   "metadata": {},
   "outputs": [],
   "source": [
    "row_col_losses, row_col_accuracies = get_losses_and_accuracies(row_col_model, steps=5000)"
   ]
  },
  {
   "cell_type": "code",
   "execution_count": 28,
   "metadata": {},
   "outputs": [],
   "source": [
    "lstm_losses, lstm_accuracies = get_losses_and_accuracies(lstm_model)"
   ]
  },
  {
   "cell_type": "code",
   "execution_count": 29,
   "metadata": {},
   "outputs": [],
   "source": [
    "lstm_milan_losses, lstm_milan_accuracies = get_losses_and_accuracies(lstm_milan_model)"
   ]
  },
  {
   "cell_type": "code",
   "execution_count": 30,
   "metadata": {},
   "outputs": [],
   "source": [
    "identity_losses, identity_accuracies = get_losses_and_accuracies(identity_model)"
   ]
  },
  {
   "cell_type": "code",
   "execution_count": 31,
   "metadata": {},
   "outputs": [
    {
     "data": {
      "text/plain": [
       "Text(0.5,1,'Association Model Losses')"
      ]
     },
     "execution_count": 31,
     "metadata": {},
     "output_type": "execute_result"
    },
    {
     "data": {
      "image/png": "[encoded data removed]",
      "text/plain": [
       "<Figure size 504x504 with 1 Axes>"
      ]
     },
     "metadata": {
      "needs_background": "light"
     },
     "output_type": "display_data"
    }
   ],
   "source": [
    "plt.figure(figsize=(7,7))\n",
    "sns.boxplot(data=pd.DataFrame({'Dense': row_col_losses, 'LSTM row-wise': lstm_losses, 'LSTM Full': lstm_milan_losses, 'Softmax': identity_losses}))\n",
    "plt.title('Association Model Losses')"
   ]
  },
  {
   "cell_type": "code",
   "execution_count": 32,
   "metadata": {},
   "outputs": [
    {
     "data": {
      "text/plain": [
       "Text(0.5,1,'Association Model Accuracies')"
      ]
     },
     "execution_count": 32,
     "metadata": {},
     "output_type": "execute_result"
    },
    {
     "data": {
      "image/png": "[encoded data removed]",
      "text/plain": [
       "<Figure size 504x504 with 1 Axes>"
      ]
     },
     "metadata": {
      "needs_background": "light"
     },
     "output_type": "display_data"
    }
   ],
   "source": [
    "plt.figure(figsize=(7,7))\n",
    "sns.boxplot(data=pd.DataFrame(data={'Dense': row_col_accuracies, 'LSTM row-wise': lstm_accuracies, 'LSTM Full': lstm_milan_accuracies, 'Softmax': identity_accuracies}))\n",
    "plt.title('Association Model Accuracies')"
   ]
  },
  {
   "cell_type": "code",
   "execution_count": 13,
   "metadata": {},
   "outputs": [],
   "source": [
    "test_problem = generate_linear_assignment_problem(30, 30, 1)"
   ]
  },
  {
   "cell_type": "code",
   "execution_count": 14,
   "metadata": {},
   "outputs": [],
   "source": [
    "import time\n",
    "\n",
    "def test_time_and_plot(model_fn, name):\n",
    "    pred_times = []\n",
    "    train_times = []\n",
    "    for size in range(2, 50):\n",
    "        model = model_fn(size, size)\n",
    "        total_pred_time = 0\n",
    "        total_train_time = 0\n",
    "        for _ in range(10):\n",
    "            test_problem = generate_linear_assignment_problem(size, size, 16)\n",
    "            test_solution = solve_linear_assignment_problem(test_problem, batch_size=16)\n",
    "            \n",
    "            start = time.time()\n",
    "            model.predict(test_problem, verbose=False)\n",
    "            end = time.time()\n",
    "            \n",
    "            prediction_time = end - start\n",
    "            total_pred_time += prediction_time\n",
    "            \n",
    "            start = time.time()\n",
    "            model.fit(test_problem, test_solution, verbose=False)\n",
    "            end = time.time()\n",
    "            \n",
    "            training_time = end - start\n",
    "            total_train_time += training_time\n",
    "            \n",
    "        train_times.append(total_train_time / 10)\n",
    "        pred_times.append(total_pred_time / 10)\n",
    "    \n",
    "    plt.title('{} Avg. Training Times'.format(name))\n",
    "    plt.plot(np.arange(2, 50), train_times)\n",
    "    plt.xlabel('Instance size')\n",
    "    plt.ylabel('Time [s]')\n",
    "    plt.show()\n",
    "    \n",
    "    plt.title('{} Avg. Inference Times'.format(name))\n",
    "    plt.plot(np.arange(2, 50), pred_times)\n",
    "    plt.xlabel('Instance size')\n",
    "    plt.ylabel('Time [s]')\n",
    "    plt.show()"
   ]
  },
  {
   "cell_type": "code",
   "execution_count": 15,
   "metadata": {},
   "outputs": [],
   "source": [
    "def row_col_model_fn(rows, cols):\n",
    "    config = TrackerConfiguration(total_no_particles=rows,\n",
    "                                      total_no_measurements=cols,\n",
    "                                      assoc_dense_row_col_no_layers = 1)\n",
    "    \n",
    "    model = tf.keras.Sequential([\n",
    "    RowColumnDenseAssociation(config),\n",
    "    tf.keras.layers.Softmax()])\n",
    "    model.compile('adam', loss=tf.keras.losses.CategoricalCrossentropy(), metrics='accuracy')\n",
    "    return model"
   ]
  },
  {
   "cell_type": "code",
   "execution_count": 16,
   "metadata": {},
   "outputs": [
    {
     "data": {
      "image/png": "[encoded data removed]",
      "text/plain": [
       "<Figure size 432x288 with 1 Axes>"
      ]
     },
     "metadata": {
      "needs_background": "light"
     },
     "output_type": "display_data"
    },
    {
     "data": {
      "image/png": "[encoded data removed]",
      "text/plain": [
       "<Figure size 432x288 with 1 Axes>"
      ]
     },
     "metadata": {
      "needs_background": "light"
     },
     "output_type": "display_data"
    }
   ],
   "source": [
    "test_time_and_plot(row_col_model_fn, 'Dense')"
   ]
  },
  {
   "cell_type": "code",
   "execution_count": 17,
   "metadata": {},
   "outputs": [],
   "source": [
    "def lstm_milan_fn(rows, cols):\n",
    "    \n",
    "    lstm_config = TrackerConfiguration(total_no_particles=rows,\n",
    "                                   total_no_measurements=cols,\n",
    "                                   assoc_lstm_hidden_units=rows*cols,\n",
    "                                   \n",
    "                                   assoc_dense_row_col_no_layers = 1)\n",
    "    \n",
    "    lstm_milan_layer = AssocMilanLstm(lstm_config)\n",
    "\n",
    "    model = tf.keras.Sequential([\n",
    "        lstm_milan_layer,\n",
    "        tf.keras.layers.Softmax()\n",
    "    ])\n",
    "\n",
    "    model.compile('rmsprop', loss=tf.keras.losses.CategoricalCrossentropy(), metrics='accuracy')\n",
    "    return model"
   ]
  },
  {
   "cell_type": "code",
   "execution_count": 18,
   "metadata": {},
   "outputs": [
    {
     "data": {
      "image/png": "[encoded data removed]",
      "text/plain": [
       "<Figure size 432x288 with 1 Axes>"
      ]
     },
     "metadata": {
      "needs_background": "light"
     },
     "output_type": "display_data"
    },
    {
     "data": {
      "image/png": "[encoded data removed]",
      "text/plain": [
       "<Figure size 432x288 with 1 Axes>"
      ]
     },
     "metadata": {
      "needs_background": "light"
     },
     "output_type": "display_data"
    }
   ],
   "source": [
    "test_time_and_plot(lstm_milan_fn, 'LSTM Milan')"
   ]
  },
  {
   "cell_type": "code",
   "execution_count": 19,
   "metadata": {},
   "outputs": [],
   "source": [
    "def lstm_row_fn(rows, cols):\n",
    "    \n",
    "    lstm_config = TrackerConfiguration(total_no_particles=rows,\n",
    "                                   total_no_measurements=cols,\n",
    "                                   assoc_lstm_hidden_units=rows*cols,\n",
    "                                   \n",
    "                                   assoc_dense_row_col_no_layers = 1)\n",
    "    \n",
    "    lstm_layer = AssociationLstm(lstm_config)\n",
    "\n",
    "    model = tf.keras.Sequential([\n",
    "        lstm_layer,\n",
    "        tf.keras.layers.Softmax()\n",
    "    ])\n",
    "\n",
    "    model.compile('rmsprop', loss=tf.keras.losses.CategoricalCrossentropy(), metrics='accuracy')\n",
    "    return model"
   ]
  },
  {
   "cell_type": "code",
   "execution_count": 20,
   "metadata": {},
   "outputs": [
    {
     "data": {
      "image/png": "[encoded data removed]",
      "text/plain": [
       "<Figure size 432x288 with 1 Axes>"
      ]
     },
     "metadata": {
      "needs_background": "light"
     },
     "output_type": "display_data"
    },
    {
     "data": {
      "image/png": "[encoded data removed]",
      "text/plain": [
       "<Figure size 432x288 with 1 Axes>"
      ]
     },
     "metadata": {
      "needs_background": "light"
     },
     "output_type": "display_data"
    }
   ],
   "source": [
    "test_time_and_plot(lstm_row_fn, 'LSTM row-wise')"
   ]
  },
  {
   "cell_type": "markdown",
   "metadata": {},
   "source": [
    "# Bucket evaluation"
   ]
  },
  {
   "cell_type": "code",
   "execution_count": 2,
   "metadata": {},
   "outputs": [],
   "source": [
    "from functools import reduce"
   ]
  },
  {
   "cell_type": "code",
   "execution_count": 3,
   "metadata": {},
   "outputs": [
    {
     "name": "stderr",
     "output_type": "stream",
     "text": [
      "/Users/claus/anaconda3/envs/tf2/lib/python3.7/site-packages/luigi/parameter.py:283: UserWarning: Parameter \"start_range\" with value \"1000\" is not of type string.\n",
      "  warnings.warn('Parameter \"{}\" with value \"{}\" is not of type string.'.format(param_name, param_value))\n",
      "/Users/claus/anaconda3/envs/tf2/lib/python3.7/site-packages/luigi/parameter.py:283: UserWarning: Parameter \"end_range\" with value \"1005\" is not of type string.\n",
      "  warnings.warn('Parameter \"{}\" with value \"{}\" is not of type string.'.format(param_name, param_value))\n",
      "/Users/claus/anaconda3/envs/tf2/lib/python3.7/site-packages/luigi/parameter.py:283: UserWarning: Parameter \"derive_task\" with value \"<class 'load_data_luigi.CreateAngles'>\" is not of type string.\n",
      "  warnings.warn('Parameter \"{}\" with value \"{}\" is not of type string.'.format(param_name, param_value))\n",
      "/Users/claus/anaconda3/envs/tf2/lib/python3.7/site-packages/luigi/parameter.py:283: UserWarning: Parameter \"create_from\" with value \"RootRangeDetectorFiles(start_range=1000, end_range=1005)\" is not of type string.\n",
      "  warnings.warn('Parameter \"{}\" with value \"{}\" is not of type string.'.format(param_name, param_value))\n",
      "/Users/claus/anaconda3/envs/tf2/lib/python3.7/site-packages/luigi/parameter.py:283: UserWarning: Parameter \"derive_task\" with value \"<class 'load_data_luigi.create_sequences.<locals>.CreateSequences'>\" is not of type string.\n",
      "  warnings.warn('Parameter \"{}\" with value \"{}\" is not of type string.'.format(param_name, param_value))\n",
      "/Users/claus/anaconda3/envs/tf2/lib/python3.7/site-packages/luigi/parameter.py:283: UserWarning: Parameter \"create_from\" with value \"DerivedRangeDetectorFiles(derive_task=<class 'load_data_luigi.CreateAngles'>, create_from=RootRangeDetectorFiles(start_range=1000, end_range=1005))\" is not of type string.\n",
      "  warnings.warn('Parameter \"{}\" with value \"{}\" is not of type string.'.format(param_name, param_value))\n",
      "/Users/claus/anaconda3/envs/tf2/lib/python3.7/site-packages/luigi/parameter.py:283: UserWarning: Parameter \"derive_task\" with value \"<class 'load_data_luigi.CreateNormalized'>\" is not of type string.\n",
      "  warnings.warn('Parameter \"{}\" with value \"{}\" is not of type string.'.format(param_name, param_value))\n",
      "/Users/claus/anaconda3/envs/tf2/lib/python3.7/site-packages/luigi/parameter.py:283: UserWarning: Parameter \"create_from\" with value \"DerivedRangeDetectorFiles(derive_task=<class 'load_data_luigi.create_sequences.<locals>.CreateSequences'>, create_from=DerivedRangeDetectorFiles(derive_task=<class 'load_data_luigi.CreateAngles'>, create_from=RootRangeDetectorFiles(start_range=1000, end_range=1005)))\" is not of type string.\n",
      "  warnings.warn('Parameter \"{}\" with value \"{}\" is not of type string.'.format(param_name, param_value))\n"
     ]
    }
   ],
   "source": [
    "theta_buckets = ld.RootRangeDetectorFiles(start_range=1000, end_range=1005)\n",
    "theta_buckets = ld.DerivedRangeDetectorFiles(create_from=theta_buckets, derive_task=ld.CreateAngles)\n",
    "theta_buckets = ld.DerivedRangeDetectorFiles(create_from=theta_buckets, derive_task=ld.create_sequences(56))\n",
    "theta_buckets = ld.DerivedRangeDetectorFiles(create_from=theta_buckets, derive_task=ld.CreateNormalized)"
   ]
  },
  {
   "cell_type": "code",
   "execution_count": 4,
   "metadata": {},
   "outputs": [
    {
     "name": "stderr",
     "output_type": "stream",
     "text": [
      "DEBUG: Checking if DerivedRangeDetectorFiles(derive_task=<class 'load_data_luigi.CreateNormalized'>, create_from=DerivedRangeDetectorFiles(derive_task=<class 'load_data_luigi.create_sequences.<locals>.CreateSequences'>, create_from=DerivedRangeDetectorFiles(derive_task=<class 'load_data_luigi.CreateAngles'>, create_from=RootRangeDetectorFiles(start_range=1000, end_range=1005)))) is complete\n",
      "/Users/claus/anaconda3/envs/tf2/lib/python3.7/site-packages/luigi/parameter.py:283: UserWarning: Parameter \"create_from\" with value \"RootDetectorFiles(event_id=1000)\" is not of type string.\n",
      "  warnings.warn('Parameter \"{}\" with value \"{}\" is not of type string.'.format(param_name, param_value))\n",
      "/Users/claus/anaconda3/envs/tf2/lib/python3.7/site-packages/luigi/parameter.py:283: UserWarning: Parameter \"create_from\" with value \"RootDetectorFiles(event_id=1001)\" is not of type string.\n",
      "  warnings.warn('Parameter \"{}\" with value \"{}\" is not of type string.'.format(param_name, param_value))\n",
      "/Users/claus/anaconda3/envs/tf2/lib/python3.7/site-packages/luigi/parameter.py:283: UserWarning: Parameter \"create_from\" with value \"RootDetectorFiles(event_id=1002)\" is not of type string.\n",
      "  warnings.warn('Parameter \"{}\" with value \"{}\" is not of type string.'.format(param_name, param_value))\n",
      "/Users/claus/anaconda3/envs/tf2/lib/python3.7/site-packages/luigi/parameter.py:283: UserWarning: Parameter \"create_from\" with value \"RootDetectorFiles(event_id=1003)\" is not of type string.\n",
      "  warnings.warn('Parameter \"{}\" with value \"{}\" is not of type string.'.format(param_name, param_value))\n",
      "/Users/claus/anaconda3/envs/tf2/lib/python3.7/site-packages/luigi/parameter.py:283: UserWarning: Parameter \"create_from\" with value \"RootDetectorFiles(event_id=1004)\" is not of type string.\n",
      "  warnings.warn('Parameter \"{}\" with value \"{}\" is not of type string.'.format(param_name, param_value))\n",
      "/Users/claus/anaconda3/envs/tf2/lib/python3.7/site-packages/luigi/parameter.py:283: UserWarning: Parameter \"create_from\" with value \"CreateAngles(create_from=RootDetectorFiles(event_id=1000))\" is not of type string.\n",
      "  warnings.warn('Parameter \"{}\" with value \"{}\" is not of type string.'.format(param_name, param_value))\n",
      "/Users/claus/anaconda3/envs/tf2/lib/python3.7/site-packages/luigi/parameter.py:283: UserWarning: Parameter \"create_from\" with value \"CreateAngles(create_from=RootDetectorFiles(event_id=1001))\" is not of type string.\n",
      "  warnings.warn('Parameter \"{}\" with value \"{}\" is not of type string.'.format(param_name, param_value))\n",
      "/Users/claus/anaconda3/envs/tf2/lib/python3.7/site-packages/luigi/parameter.py:283: UserWarning: Parameter \"create_from\" with value \"CreateAngles(create_from=RootDetectorFiles(event_id=1002))\" is not of type string.\n",
      "  warnings.warn('Parameter \"{}\" with value \"{}\" is not of type string.'.format(param_name, param_value))\n",
      "/Users/claus/anaconda3/envs/tf2/lib/python3.7/site-packages/luigi/parameter.py:283: UserWarning: Parameter \"create_from\" with value \"CreateAngles(create_from=RootDetectorFiles(event_id=1003))\" is not of type string.\n",
      "  warnings.warn('Parameter \"{}\" with value \"{}\" is not of type string.'.format(param_name, param_value))\n",
      "/Users/claus/anaconda3/envs/tf2/lib/python3.7/site-packages/luigi/parameter.py:283: UserWarning: Parameter \"create_from\" with value \"CreateAngles(create_from=RootDetectorFiles(event_id=1004))\" is not of type string.\n",
      "  warnings.warn('Parameter \"{}\" with value \"{}\" is not of type string.'.format(param_name, param_value))\n",
      "/Users/claus/anaconda3/envs/tf2/lib/python3.7/site-packages/luigi/parameter.py:283: UserWarning: Parameter \"create_from\" with value \"CreateSequences(create_from=CreateAngles(create_from=RootDetectorFiles(event_id=1000)))\" is not of type string.\n",
      "  warnings.warn('Parameter \"{}\" with value \"{}\" is not of type string.'.format(param_name, param_value))\n",
      "/Users/claus/anaconda3/envs/tf2/lib/python3.7/site-packages/luigi/parameter.py:283: UserWarning: Parameter \"create_from\" with value \"CreateSequences(create_from=CreateAngles(create_from=RootDetectorFiles(event_id=1001)))\" is not of type string.\n",
      "  warnings.warn('Parameter \"{}\" with value \"{}\" is not of type string.'.format(param_name, param_value))\n",
      "/Users/claus/anaconda3/envs/tf2/lib/python3.7/site-packages/luigi/parameter.py:283: UserWarning: Parameter \"create_from\" with value \"CreateSequences(create_from=CreateAngles(create_from=RootDetectorFiles(event_id=1002)))\" is not of type string.\n",
      "  warnings.warn('Parameter \"{}\" with value \"{}\" is not of type string.'.format(param_name, param_value))\n",
      "/Users/claus/anaconda3/envs/tf2/lib/python3.7/site-packages/luigi/parameter.py:283: UserWarning: Parameter \"create_from\" with value \"CreateSequences(create_from=CreateAngles(create_from=RootDetectorFiles(event_id=1003)))\" is not of type string.\n",
      "  warnings.warn('Parameter \"{}\" with value \"{}\" is not of type string.'.format(param_name, param_value))\n",
      "/Users/claus/anaconda3/envs/tf2/lib/python3.7/site-packages/luigi/parameter.py:283: UserWarning: Parameter \"create_from\" with value \"CreateSequences(create_from=CreateAngles(create_from=RootDetectorFiles(event_id=1004)))\" is not of type string.\n",
      "  warnings.warn('Parameter \"{}\" with value \"{}\" is not of type string.'.format(param_name, param_value))\n",
      "INFO: Informed scheduler that task   DerivedRangeDetectorFiles_DerivedRangeDete__class__load_dat_f5dfc76af3   has status   DONE\n",
      "INFO: Done scheduling tasks\n",
      "INFO: Running Worker with 4 processes\n",
      "DEBUG: Asking scheduler for work...\n",
      "DEBUG: Done\n",
      "DEBUG: There are no more tasks to run at this time\n",
      "INFO: Worker Worker(salt=712613857, workers=4, host=Clauss-MacBook-Pro.local, username=claus, pid=53618) was stopped. Shutting down Keep-Alive thread\n",
      "INFO: \n",
      "===== Luigi Execution Summary =====\n",
      "\n",
      "Scheduled 1 tasks of which:\n",
      "* 1 complete ones were encountered:\n",
      "    - 1 DerivedRangeDetectorFiles(...)\n",
      "\n",
      "Did not run any tasks\n",
      "This progress looks :) because there were no failed tasks or missing dependencies\n",
      "\n",
      "===== Luigi Execution Summary =====\n",
      "\n"
     ]
    },
    {
     "data": {
      "text/plain": [
       "(0, 8000)"
      ]
     },
     "execution_count": 4,
     "metadata": {},
     "output_type": "execute_result"
    },
    {
     "data": {
      "image/png": "[encoded data removed]",
      "text/plain": [
       "<Figure size 432x288 with 1 Axes>"
      ]
     },
     "metadata": {},
     "output_type": "display_data"
    }
   ],
   "source": [
    "event = next(theta_buckets.load())\n",
    "hits, _, _, truth = event\n",
    "merged = hits.merge(truth, on='hit_id')\n",
    "merged = merged[merged['particle_id'] != 0]\n",
    "particle_lengths = merged.groupby('particle_id').size()\n",
    "sns.set()\n",
    "sns.countplot(x=particle_lengths, color='C0')\n",
    "plt.xlabel('particle track length')\n",
    "plt.ylim(0,8000)"
   ]
  },
  {
   "cell_type": "code",
   "execution_count": 5,
   "metadata": {},
   "outputs": [],
   "source": [
    "def particle_lengths_per_bucket(event):\n",
    "    hits, _, _, truth = event\n",
    "    merged = hits.merge(truth, on='hit_id')\n",
    "    particle_lengths_dict = dict()\n",
    "    for bucket_id, bucket in merged.groupby('sequence_id'):\n",
    "        bucket = bucket[bucket['particle_id'] != 0]\n",
    "        particle_lengths = list(bucket.groupby('particle_id').size())\n",
    "        particle_lengths_dict[bucket_id] = particle_lengths\n",
    "    return particle_lengths_dict"
   ]
  },
  {
   "cell_type": "code",
   "execution_count": 6,
   "metadata": {},
   "outputs": [],
   "source": [
    "def bucket_particle_lengths_distribution(event):\n",
    "    particle_lengths_dict = particle_lengths_per_bucket(event)\n",
    "    len_list = reduce(lambda a,b: a+b, particle_lengths_dict.values())\n",
    "    particle_lengths = len_list\n",
    "    sns.set()\n",
    "    sns.countplot(x=particle_lengths, color='C0')\n",
    "    plt.xlabel('particle track length')\n",
    "    plt.ylim(0,8000)"
   ]
  },
  {
   "cell_type": "code",
   "execution_count": 7,
   "metadata": {
    "scrolled": true
   },
   "outputs": [
    {
     "data": {
      "image/png": "[encoded data removed]",
      "text/plain": [
       "<Figure size 432x288 with 1 Axes>"
      ]
     },
     "metadata": {},
     "output_type": "display_data"
    }
   ],
   "source": [
    "bucket_particle_lengths_distribution(next(theta_buckets.load()))"
   ]
  },
  {
   "cell_type": "code",
   "execution_count": 8,
   "metadata": {},
   "outputs": [
    {
     "data": {
      "text/plain": [
       "56"
      ]
     },
     "execution_count": 8,
     "metadata": {},
     "output_type": "execute_result"
    }
   ],
   "source": [
    "hits, _ ,_ ,_ = next(theta_buckets.load())\n",
    "hits['sequence_id'].nunique()"
   ]
  },
  {
   "cell_type": "code",
   "execution_count": 9,
   "metadata": {},
   "outputs": [
    {
     "data": {
      "text/plain": [
       "hit_id       491\n",
       "x            491\n",
       "y            491\n",
       "z            491\n",
       "module_id    491\n",
       "phi          491\n",
       "theta        491\n",
       "dtype: int64"
      ]
     },
     "execution_count": 9,
     "metadata": {},
     "output_type": "execute_result"
    }
   ],
   "source": [
    "hits.groupby(['sequence_id', 'volume_id', 'layer_id']).count().max()"
   ]
  },
  {
   "cell_type": "code",
   "execution_count": 10,
   "metadata": {},
   "outputs": [
    {
     "name": "stderr",
     "output_type": "stream",
     "text": [
      "/Users/claus/anaconda3/envs/tf2/lib/python3.7/site-packages/luigi/parameter.py:283: UserWarning: Parameter \"derive_task\" with value \"<class 'load_data_luigi.create_annoy_sequences.<locals>.CreateAnnoySequences'>\" is not of type string.\n",
      "  warnings.warn('Parameter \"{}\" with value \"{}\" is not of type string.'.format(param_name, param_value))\n",
      "/Users/claus/anaconda3/envs/tf2/lib/python3.7/site-packages/luigi/parameter.py:283: UserWarning: Parameter \"create_from\" with value \"DerivedRangeDetectorFiles(derive_task=<class 'load_data_luigi.create_annoy_sequences.<locals>.CreateAnnoySequences'>, create_from=RootRangeDetectorFiles(start_range=1000, end_range=1005))\" is not of type string.\n",
      "  warnings.warn('Parameter \"{}\" with value \"{}\" is not of type string.'.format(param_name, param_value))\n",
      "/Users/claus/anaconda3/envs/tf2/lib/python3.7/site-packages/luigi/parameter.py:283: UserWarning: Parameter \"create_from\" with value \"DerivedRangeDetectorFiles(derive_task=<class 'load_data_luigi.CreateAngles'>, create_from=DerivedRangeDetectorFiles(derive_task=<class 'load_data_luigi.create_annoy_sequences.<locals>.CreateAnnoySequences'>, create_from=RootRangeDetectorFiles(start_range=1000, end_range=1005)))\" is not of type string.\n",
      "  warnings.warn('Parameter \"{}\" with value \"{}\" is not of type string.'.format(param_name, param_value))\n"
     ]
    }
   ],
   "source": [
    "annoy_buckets = ld.RootRangeDetectorFiles(start_range=1000, end_range=1005)\n",
    "annoy_buckets = ld.DerivedRangeDetectorFiles(create_from=annoy_buckets, derive_task=ld.create_annoy_sequences(2500))\n",
    "annoy_buckets = ld.DerivedRangeDetectorFiles(create_from=annoy_buckets, derive_task=ld.CreateAngles)\n",
    "annoy_buckets = ld.DerivedRangeDetectorFiles(create_from=annoy_buckets, derive_task=ld.CreateNormalized)"
   ]
  },
  {
   "cell_type": "code",
   "execution_count": 11,
   "metadata": {},
   "outputs": [
    {
     "name": "stderr",
     "output_type": "stream",
     "text": [
      "DEBUG: Checking if DerivedRangeDetectorFiles(derive_task=<class 'load_data_luigi.CreateNormalized'>, create_from=DerivedRangeDetectorFiles(derive_task=<class 'load_data_luigi.CreateAngles'>, create_from=DerivedRangeDetectorFiles(derive_task=<class 'load_data_luigi.create_annoy_sequences.<locals>.CreateAnnoySequences'>, create_from=RootRangeDetectorFiles(start_range=1000, end_range=1005)))) is complete\n",
      "/Users/claus/anaconda3/envs/tf2/lib/python3.7/site-packages/luigi/parameter.py:283: UserWarning: Parameter \"create_from\" with value \"CreateAnnoySequences(create_from=RootDetectorFiles(event_id=1000))\" is not of type string.\n",
      "  warnings.warn('Parameter \"{}\" with value \"{}\" is not of type string.'.format(param_name, param_value))\n",
      "/Users/claus/anaconda3/envs/tf2/lib/python3.7/site-packages/luigi/parameter.py:283: UserWarning: Parameter \"create_from\" with value \"CreateAnnoySequences(create_from=RootDetectorFiles(event_id=1001))\" is not of type string.\n",
      "  warnings.warn('Parameter \"{}\" with value \"{}\" is not of type string.'.format(param_name, param_value))\n",
      "/Users/claus/anaconda3/envs/tf2/lib/python3.7/site-packages/luigi/parameter.py:283: UserWarning: Parameter \"create_from\" with value \"CreateAnnoySequences(create_from=RootDetectorFiles(event_id=1002))\" is not of type string.\n",
      "  warnings.warn('Parameter \"{}\" with value \"{}\" is not of type string.'.format(param_name, param_value))\n",
      "/Users/claus/anaconda3/envs/tf2/lib/python3.7/site-packages/luigi/parameter.py:283: UserWarning: Parameter \"create_from\" with value \"CreateAnnoySequences(create_from=RootDetectorFiles(event_id=1003))\" is not of type string.\n",
      "  warnings.warn('Parameter \"{}\" with value \"{}\" is not of type string.'.format(param_name, param_value))\n",
      "/Users/claus/anaconda3/envs/tf2/lib/python3.7/site-packages/luigi/parameter.py:283: UserWarning: Parameter \"create_from\" with value \"CreateAnnoySequences(create_from=RootDetectorFiles(event_id=1004))\" is not of type string.\n",
      "  warnings.warn('Parameter \"{}\" with value \"{}\" is not of type string.'.format(param_name, param_value))\n",
      "/Users/claus/anaconda3/envs/tf2/lib/python3.7/site-packages/luigi/parameter.py:283: UserWarning: Parameter \"create_from\" with value \"CreateAngles(create_from=CreateAnnoySequences(create_from=RootDetectorFiles(event_id=1000)))\" is not of type string.\n",
      "  warnings.warn('Parameter \"{}\" with value \"{}\" is not of type string.'.format(param_name, param_value))\n",
      "/Users/claus/anaconda3/envs/tf2/lib/python3.7/site-packages/luigi/parameter.py:283: UserWarning: Parameter \"create_from\" with value \"CreateAngles(create_from=CreateAnnoySequences(create_from=RootDetectorFiles(event_id=1001)))\" is not of type string.\n",
      "  warnings.warn('Parameter \"{}\" with value \"{}\" is not of type string.'.format(param_name, param_value))\n",
      "/Users/claus/anaconda3/envs/tf2/lib/python3.7/site-packages/luigi/parameter.py:283: UserWarning: Parameter \"create_from\" with value \"CreateAngles(create_from=CreateAnnoySequences(create_from=RootDetectorFiles(event_id=1002)))\" is not of type string.\n",
      "  warnings.warn('Parameter \"{}\" with value \"{}\" is not of type string.'.format(param_name, param_value))\n",
      "/Users/claus/anaconda3/envs/tf2/lib/python3.7/site-packages/luigi/parameter.py:283: UserWarning: Parameter \"create_from\" with value \"CreateAngles(create_from=CreateAnnoySequences(create_from=RootDetectorFiles(event_id=1003)))\" is not of type string.\n",
      "  warnings.warn('Parameter \"{}\" with value \"{}\" is not of type string.'.format(param_name, param_value))\n",
      "/Users/claus/anaconda3/envs/tf2/lib/python3.7/site-packages/luigi/parameter.py:283: UserWarning: Parameter \"create_from\" with value \"CreateAngles(create_from=CreateAnnoySequences(create_from=RootDetectorFiles(event_id=1004)))\" is not of type string.\n",
      "  warnings.warn('Parameter \"{}\" with value \"{}\" is not of type string.'.format(param_name, param_value))\n",
      "DEBUG: Checking if CreateNormalized(create_from=CreateAngles(create_from=CreateAnnoySequences(create_from=RootDetectorFiles(event_id=1000)))) is complete\n",
      "DEBUG: Checking if CreateNormalized(create_from=CreateAngles(create_from=CreateAnnoySequences(create_from=RootDetectorFiles(event_id=1001)))) is complete\n",
      "DEBUG: Checking if CreateNormalized(create_from=CreateAngles(create_from=CreateAnnoySequences(create_from=RootDetectorFiles(event_id=1002)))) is complete\n",
      "DEBUG: Checking if CreateNormalized(create_from=CreateAngles(create_from=CreateAnnoySequences(create_from=RootDetectorFiles(event_id=1003)))) is complete\n",
      "DEBUG: Checking if CreateNormalized(create_from=CreateAngles(create_from=CreateAnnoySequences(create_from=RootDetectorFiles(event_id=1004)))) is complete\n",
      "INFO: Informed scheduler that task   DerivedRangeDetectorFiles_DerivedRangeDete__class__load_dat_1727f70173   has status   PENDING\n",
      "DEBUG: Checking if CreateAngles(create_from=CreateAnnoySequences(create_from=RootDetectorFiles(event_id=1004))) is complete\n",
      "INFO: Informed scheduler that task   CreateNormalized_CreateAngles_cre_24f852d9c4   has status   PENDING\n",
      "DEBUG: Checking if CreateAnnoySequences(create_from=RootDetectorFiles(event_id=1004)) is complete\n",
      "INFO: Informed scheduler that task   CreateAngles_CreateAnnoySeque_020eacc843   has status   PENDING\n",
      "DEBUG: Checking if RootDetectorFiles(event_id=1004) is complete\n",
      "INFO: Informed scheduler that task   CreateAnnoySequences_RootDetectorFile_ed55eacae6   has status   PENDING\n",
      "INFO: Informed scheduler that task   RootDetectorFiles_1004_00fb2a914f   has status   DONE\n",
      "DEBUG: Checking if CreateAngles(create_from=CreateAnnoySequences(create_from=RootDetectorFiles(event_id=1003))) is complete\n",
      "INFO: Informed scheduler that task   CreateNormalized_CreateAngles_cre_8d99c834f6   has status   PENDING\n",
      "DEBUG: Checking if CreateAnnoySequences(create_from=RootDetectorFiles(event_id=1003)) is complete\n",
      "INFO: Informed scheduler that task   CreateAngles_CreateAnnoySeque_9a9b0b6825   has status   PENDING\n",
      "DEBUG: Checking if RootDetectorFiles(event_id=1003) is complete\n",
      "INFO: Informed scheduler that task   CreateAnnoySequences_RootDetectorFile_d0e4887696   has status   PENDING\n",
      "INFO: Informed scheduler that task   RootDetectorFiles_1003_5c82142895   has status   DONE\n",
      "DEBUG: Checking if CreateAngles(create_from=CreateAnnoySequences(create_from=RootDetectorFiles(event_id=1002))) is complete\n",
      "INFO: Informed scheduler that task   CreateNormalized_CreateAngles_cre_ac4824cfe1   has status   PENDING\n",
      "DEBUG: Checking if CreateAnnoySequences(create_from=RootDetectorFiles(event_id=1002)) is complete\n",
      "INFO: Informed scheduler that task   CreateAngles_CreateAnnoySeque_25b063f478   has status   PENDING\n",
      "DEBUG: Checking if RootDetectorFiles(event_id=1002) is complete\n",
      "INFO: Informed scheduler that task   CreateAnnoySequences_RootDetectorFile_b552fd1b8d   has status   PENDING\n",
      "INFO: Informed scheduler that task   RootDetectorFiles_1002_6cc5530c23   has status   DONE\n",
      "DEBUG: Checking if CreateAngles(create_from=CreateAnnoySequences(create_from=RootDetectorFiles(event_id=1001))) is complete\n",
      "INFO: Informed scheduler that task   CreateNormalized_CreateAngles_cre_249668eaad   has status   PENDING\n",
      "DEBUG: Checking if CreateAnnoySequences(create_from=RootDetectorFiles(event_id=1001)) is complete\n",
      "INFO: Informed scheduler that task   CreateAngles_CreateAnnoySeque_6cab08c876   has status   PENDING\n",
      "DEBUG: Checking if RootDetectorFiles(event_id=1001) is complete\n",
      "INFO: Informed scheduler that task   CreateAnnoySequences_RootDetectorFile_0e2711f1ba   has status   PENDING\n",
      "INFO: Informed scheduler that task   RootDetectorFiles_1001_569d25e6eb   has status   DONE\n",
      "DEBUG: Checking if CreateAngles(create_from=CreateAnnoySequences(create_from=RootDetectorFiles(event_id=1000))) is complete\n",
      "INFO: Informed scheduler that task   CreateNormalized_CreateAngles_cre_f99702a5e3   has status   PENDING\n",
      "DEBUG: Checking if CreateAnnoySequences(create_from=RootDetectorFiles(event_id=1000)) is complete\n",
      "INFO: Informed scheduler that task   CreateAngles_CreateAnnoySeque_38e146b4f0   has status   PENDING\n",
      "DEBUG: Checking if RootDetectorFiles(event_id=1000) is complete\n",
      "INFO: Informed scheduler that task   CreateAnnoySequences_RootDetectorFile_1bcbd8e3db   has status   PENDING\n",
      "INFO: Informed scheduler that task   RootDetectorFiles_1000_78cc2bdaab   has status   DONE\n",
      "INFO: Done scheduling tasks\n"
     ]
    },
    {
     "name": "stderr",
     "output_type": "stream",
     "text": [
      "INFO: Running Worker with 4 processes\n",
      "DEBUG: Asking scheduler for work...\n",
      "DEBUG: Pending tasks: 16\n",
      "DEBUG: Asking scheduler for work...\n",
      "INFO: [pid 53623] Worker Worker(salt=711230875, workers=4, host=Clauss-MacBook-Pro.local, username=claus, pid=53618) running   CreateAnnoySequences(create_from=RootDetectorFiles(event_id=1004))\n",
      "DEBUG: Pending tasks: 15\n",
      "DEBUG: Asking scheduler for work...\n",
      "INFO: [pid 53624] Worker Worker(salt=711230875, workers=4, host=Clauss-MacBook-Pro.local, username=claus, pid=53618) running   CreateAnnoySequences(create_from=RootDetectorFiles(event_id=1003))\n",
      "DEBUG: Pending tasks: 14\n",
      "DEBUG: Asking scheduler for work...\n",
      "INFO: [pid 53625] Worker Worker(salt=711230875, workers=4, host=Clauss-MacBook-Pro.local, username=claus, pid=53618) running   CreateAnnoySequences(create_from=RootDetectorFiles(event_id=1002))\n",
      "DEBUG: Pending tasks: 13\n",
      "DEBUG: 4 running tasks, waiting for next task to finish\n",
      "INFO: [pid 53626] Worker Worker(salt=711230875, workers=4, host=Clauss-MacBook-Pro.local, username=claus, pid=53618) running   CreateAnnoySequences(create_from=RootDetectorFiles(event_id=1001))\n",
      "DEBUG: 4 running tasks, waiting for next task to finish\n",
      "DEBUG: 4 running tasks, waiting for next task to finish\n",
      "DEBUG: 4 running tasks, waiting for next task to finish\n",
      "DEBUG: 4 running tasks, waiting for next task to finish\n",
      "DEBUG: 4 running tasks, waiting for next task to finish\n",
      "DEBUG: 4 running tasks, waiting for next task to finish\n",
      "DEBUG: 4 running tasks, waiting for next task to finish\n",
      "DEBUG: 4 running tasks, waiting for next task to finish\n",
      "DEBUG: 4 running tasks, waiting for next task to finish\n",
      "INFO: [pid 53626] Worker Worker(salt=711230875, workers=4, host=Clauss-MacBook-Pro.local, username=claus, pid=53618) done      CreateAnnoySequences(create_from=RootDetectorFiles(event_id=1001))\n",
      "INFO: Informed scheduler that task   CreateAnnoySequences_RootDetectorFile_0e2711f1ba   has status   DONE\n",
      "DEBUG: Asking scheduler for work...\n",
      "DEBUG: Pending tasks: 12\n",
      "DEBUG: 4 running tasks, waiting for next task to finish\n",
      "INFO: [pid 53627] Worker Worker(salt=711230875, workers=4, host=Clauss-MacBook-Pro.local, username=claus, pid=53618) running   CreateAngles(create_from=CreateAnnoySequences(create_from=RootDetectorFiles(event_id=1001)))\n",
      "DEBUG: 4 running tasks, waiting for next task to finish\n",
      "INFO: [pid 53624] Worker Worker(salt=711230875, workers=4, host=Clauss-MacBook-Pro.local, username=claus, pid=53618) done      CreateAnnoySequences(create_from=RootDetectorFiles(event_id=1003))\n",
      "INFO: Informed scheduler that task   CreateAnnoySequences_RootDetectorFile_d0e4887696   has status   DONE\n",
      "DEBUG: Asking scheduler for work...\n",
      "DEBUG: Pending tasks: 11\n",
      "DEBUG: 4 running tasks, waiting for next task to finish\n",
      "INFO: [pid 53628] Worker Worker(salt=711230875, workers=4, host=Clauss-MacBook-Pro.local, username=claus, pid=53618) running   CreateAngles(create_from=CreateAnnoySequences(create_from=RootDetectorFiles(event_id=1003)))\n",
      "DEBUG: 4 running tasks, waiting for next task to finish\n",
      "DEBUG: 4 running tasks, waiting for next task to finish\n",
      "INFO: [pid 53625] Worker Worker(salt=711230875, workers=4, host=Clauss-MacBook-Pro.local, username=claus, pid=53618) done      CreateAnnoySequences(create_from=RootDetectorFiles(event_id=1002))\n",
      "INFO: Informed scheduler that task   CreateAnnoySequences_RootDetectorFile_b552fd1b8d   has status   DONE\n",
      "DEBUG: Asking scheduler for work...\n",
      "DEBUG: Pending tasks: 10\n",
      "DEBUG: 4 running tasks, waiting for next task to finish\n",
      "INFO: [pid 53629] Worker Worker(salt=711230875, workers=4, host=Clauss-MacBook-Pro.local, username=claus, pid=53618) running   CreateAngles(create_from=CreateAnnoySequences(create_from=RootDetectorFiles(event_id=1002)))\n",
      "DEBUG: 4 running tasks, waiting for next task to finish\n",
      "INFO: [pid 53623] Worker Worker(salt=711230875, workers=4, host=Clauss-MacBook-Pro.local, username=claus, pid=53618) done      CreateAnnoySequences(create_from=RootDetectorFiles(event_id=1004))\n",
      "INFO: Informed scheduler that task   CreateAnnoySequences_RootDetectorFile_ed55eacae6   has status   DONE\n",
      "DEBUG: Asking scheduler for work...\n",
      "DEBUG: Pending tasks: 9\n",
      "DEBUG: 4 running tasks, waiting for next task to finish\n",
      "INFO: [pid 53630] Worker Worker(salt=711230875, workers=4, host=Clauss-MacBook-Pro.local, username=claus, pid=53618) running   CreateAngles(create_from=CreateAnnoySequences(create_from=RootDetectorFiles(event_id=1004)))\n",
      "DEBUG: 4 running tasks, waiting for next task to finish\n",
      "INFO: [pid 53627] Worker Worker(salt=711230875, workers=4, host=Clauss-MacBook-Pro.local, username=claus, pid=53618) done      CreateAngles(create_from=CreateAnnoySequences(create_from=RootDetectorFiles(event_id=1001)))\n",
      "INFO: Informed scheduler that task   CreateAngles_CreateAnnoySeque_6cab08c876   has status   DONE\n",
      "DEBUG: Asking scheduler for work...\n",
      "DEBUG: Pending tasks: 8\n",
      "DEBUG: 4 running tasks, waiting for next task to finish\n",
      "INFO: [pid 53631] Worker Worker(salt=711230875, workers=4, host=Clauss-MacBook-Pro.local, username=claus, pid=53618) running   CreateNormalized(create_from=CreateAngles(create_from=CreateAnnoySequences(create_from=RootDetectorFiles(event_id=1001))))\n",
      "DEBUG: 4 running tasks, waiting for next task to finish\n",
      "INFO: [pid 53628] Worker Worker(salt=711230875, workers=4, host=Clauss-MacBook-Pro.local, username=claus, pid=53618) done      CreateAngles(create_from=CreateAnnoySequences(create_from=RootDetectorFiles(event_id=1003)))\n",
      "INFO: Informed scheduler that task   CreateAngles_CreateAnnoySeque_9a9b0b6825   has status   DONE\n",
      "DEBUG: Asking scheduler for work...\n",
      "DEBUG: Pending tasks: 7\n",
      "DEBUG: 4 running tasks, waiting for next task to finish\n",
      "INFO: [pid 53632] Worker Worker(salt=711230875, workers=4, host=Clauss-MacBook-Pro.local, username=claus, pid=53618) running   CreateNormalized(create_from=CreateAngles(create_from=CreateAnnoySequences(create_from=RootDetectorFiles(event_id=1003))))\n",
      "DEBUG: 4 running tasks, waiting for next task to finish\n",
      "DEBUG: 4 running tasks, waiting for next task to finish\n",
      "DEBUG: 4 running tasks, waiting for next task to finish\n",
      "INFO: [pid 53629] Worker Worker(salt=711230875, workers=4, host=Clauss-MacBook-Pro.local, username=claus, pid=53618) done      CreateAngles(create_from=CreateAnnoySequences(create_from=RootDetectorFiles(event_id=1002)))\n",
      "INFO: Informed scheduler that task   CreateAngles_CreateAnnoySeque_25b063f478   has status   DONE\n",
      "DEBUG: Asking scheduler for work...\n",
      "DEBUG: Pending tasks: 6\n",
      "DEBUG: 4 running tasks, waiting for next task to finish\n",
      "INFO: [pid 53633] Worker Worker(salt=711230875, workers=4, host=Clauss-MacBook-Pro.local, username=claus, pid=53618) running   CreateNormalized(create_from=CreateAngles(create_from=CreateAnnoySequences(create_from=RootDetectorFiles(event_id=1002))))\n",
      "DEBUG: 4 running tasks, waiting for next task to finish\n",
      "DEBUG: 4 running tasks, waiting for next task to finish\n",
      "INFO: [pid 53631] Worker Worker(salt=711230875, workers=4, host=Clauss-MacBook-Pro.local, username=claus, pid=53618) done      CreateNormalized(create_from=CreateAngles(create_from=CreateAnnoySequences(create_from=RootDetectorFiles(event_id=1001))))\n",
      "INFO: Informed scheduler that task   CreateNormalized_CreateAngles_cre_249668eaad   has status   DONE\n",
      "DEBUG: Asking scheduler for work...\n",
      "DEBUG: Pending tasks: 5\n",
      "DEBUG: 4 running tasks, waiting for next task to finish\n",
      "INFO: [pid 53634] Worker Worker(salt=711230875, workers=4, host=Clauss-MacBook-Pro.local, username=claus, pid=53618) running   CreateAnnoySequences(create_from=RootDetectorFiles(event_id=1000))\n",
      "INFO: [pid 53630] Worker Worker(salt=711230875, workers=4, host=Clauss-MacBook-Pro.local, username=claus, pid=53618) done      CreateAngles(create_from=CreateAnnoySequences(create_from=RootDetectorFiles(event_id=1004)))\n",
      "INFO: Informed scheduler that task   CreateAngles_CreateAnnoySeque_020eacc843   has status   DONE\n",
      "DEBUG: Asking scheduler for work...\n",
      "DEBUG: Pending tasks: 4\n",
      "DEBUG: 4 running tasks, waiting for next task to finish\n",
      "INFO: [pid 53635] Worker Worker(salt=711230875, workers=4, host=Clauss-MacBook-Pro.local, username=claus, pid=53618) running   CreateNormalized(create_from=CreateAngles(create_from=CreateAnnoySequences(create_from=RootDetectorFiles(event_id=1004))))\n",
      "DEBUG: 4 running tasks, waiting for next task to finish\n"
     ]
    },
    {
     "name": "stderr",
     "output_type": "stream",
     "text": [
      "INFO: [pid 53632] Worker Worker(salt=711230875, workers=4, host=Clauss-MacBook-Pro.local, username=claus, pid=53618) done      CreateNormalized(create_from=CreateAngles(create_from=CreateAnnoySequences(create_from=RootDetectorFiles(event_id=1003))))\n",
      "INFO: Informed scheduler that task   CreateNormalized_CreateAngles_cre_8d99c834f6   has status   DONE\n",
      "DEBUG: Asking scheduler for work...\n",
      "DEBUG: Done\n",
      "DEBUG: There are no more tasks to run at this time\n",
      "DEBUG: CreateNormalized_CreateAngles_cre_ac4824cfe1 is currently run by worker Worker(salt=711230875, workers=4, host=Clauss-MacBook-Pro.local, username=claus, pid=53618)\n",
      "DEBUG: CreateAnnoySequences_RootDetectorFile_1bcbd8e3db is currently run by worker Worker(salt=711230875, workers=4, host=Clauss-MacBook-Pro.local, username=claus, pid=53618)\n",
      "DEBUG: CreateNormalized_CreateAngles_cre_24f852d9c4 is currently run by worker Worker(salt=711230875, workers=4, host=Clauss-MacBook-Pro.local, username=claus, pid=53618)\n",
      "DEBUG: Asking scheduler for work...\n",
      "DEBUG: Done\n",
      "DEBUG: There are no more tasks to run at this time\n",
      "DEBUG: CreateNormalized_CreateAngles_cre_ac4824cfe1 is currently run by worker Worker(salt=711230875, workers=4, host=Clauss-MacBook-Pro.local, username=claus, pid=53618)\n",
      "DEBUG: CreateAnnoySequences_RootDetectorFile_1bcbd8e3db is currently run by worker Worker(salt=711230875, workers=4, host=Clauss-MacBook-Pro.local, username=claus, pid=53618)\n",
      "DEBUG: CreateNormalized_CreateAngles_cre_24f852d9c4 is currently run by worker Worker(salt=711230875, workers=4, host=Clauss-MacBook-Pro.local, username=claus, pid=53618)\n",
      "DEBUG: Asking scheduler for work...\n",
      "DEBUG: Done\n",
      "DEBUG: There are no more tasks to run at this time\n",
      "DEBUG: CreateNormalized_CreateAngles_cre_ac4824cfe1 is currently run by worker Worker(salt=711230875, workers=4, host=Clauss-MacBook-Pro.local, username=claus, pid=53618)\n",
      "DEBUG: CreateAnnoySequences_RootDetectorFile_1bcbd8e3db is currently run by worker Worker(salt=711230875, workers=4, host=Clauss-MacBook-Pro.local, username=claus, pid=53618)\n",
      "DEBUG: CreateNormalized_CreateAngles_cre_24f852d9c4 is currently run by worker Worker(salt=711230875, workers=4, host=Clauss-MacBook-Pro.local, username=claus, pid=53618)\n",
      "DEBUG: Asking scheduler for work...\n",
      "DEBUG: Done\n",
      "DEBUG: There are no more tasks to run at this time\n",
      "DEBUG: CreateNormalized_CreateAngles_cre_ac4824cfe1 is currently run by worker Worker(salt=711230875, workers=4, host=Clauss-MacBook-Pro.local, username=claus, pid=53618)\n",
      "DEBUG: CreateAnnoySequences_RootDetectorFile_1bcbd8e3db is currently run by worker Worker(salt=711230875, workers=4, host=Clauss-MacBook-Pro.local, username=claus, pid=53618)\n",
      "DEBUG: CreateNormalized_CreateAngles_cre_24f852d9c4 is currently run by worker Worker(salt=711230875, workers=4, host=Clauss-MacBook-Pro.local, username=claus, pid=53618)\n",
      "INFO: [pid 53633] Worker Worker(salt=711230875, workers=4, host=Clauss-MacBook-Pro.local, username=claus, pid=53618) done      CreateNormalized(create_from=CreateAngles(create_from=CreateAnnoySequences(create_from=RootDetectorFiles(event_id=1002))))\n",
      "INFO: Informed scheduler that task   CreateNormalized_CreateAngles_cre_ac4824cfe1   has status   DONE\n",
      "DEBUG: Asking scheduler for work...\n",
      "DEBUG: Done\n",
      "DEBUG: There are no more tasks to run at this time\n",
      "DEBUG: CreateAnnoySequences_RootDetectorFile_1bcbd8e3db is currently run by worker Worker(salt=711230875, workers=4, host=Clauss-MacBook-Pro.local, username=claus, pid=53618)\n",
      "DEBUG: CreateNormalized_CreateAngles_cre_24f852d9c4 is currently run by worker Worker(salt=711230875, workers=4, host=Clauss-MacBook-Pro.local, username=claus, pid=53618)\n",
      "DEBUG: Asking scheduler for work...\n",
      "DEBUG: Done\n",
      "DEBUG: There are no more tasks to run at this time\n",
      "DEBUG: CreateAnnoySequences_RootDetectorFile_1bcbd8e3db is currently run by worker Worker(salt=711230875, workers=4, host=Clauss-MacBook-Pro.local, username=claus, pid=53618)\n",
      "DEBUG: CreateNormalized_CreateAngles_cre_24f852d9c4 is currently run by worker Worker(salt=711230875, workers=4, host=Clauss-MacBook-Pro.local, username=claus, pid=53618)\n",
      "INFO: [pid 53635] Worker Worker(salt=711230875, workers=4, host=Clauss-MacBook-Pro.local, username=claus, pid=53618) done      CreateNormalized(create_from=CreateAngles(create_from=CreateAnnoySequences(create_from=RootDetectorFiles(event_id=1004))))\n",
      "INFO: Informed scheduler that task   CreateNormalized_CreateAngles_cre_24f852d9c4   has status   DONE\n",
      "DEBUG: Asking scheduler for work...\n",
      "DEBUG: Done\n",
      "DEBUG: There are no more tasks to run at this time\n",
      "DEBUG: CreateAnnoySequences_RootDetectorFile_1bcbd8e3db is currently run by worker Worker(salt=711230875, workers=4, host=Clauss-MacBook-Pro.local, username=claus, pid=53618)\n",
      "INFO: [pid 53634] Worker Worker(salt=711230875, workers=4, host=Clauss-MacBook-Pro.local, username=claus, pid=53618) done      CreateAnnoySequences(create_from=RootDetectorFiles(event_id=1000))\n",
      "INFO: Informed scheduler that task   CreateAnnoySequences_RootDetectorFile_1bcbd8e3db   has status   DONE\n",
      "DEBUG: Asking scheduler for work...\n",
      "DEBUG: Pending tasks: 3\n",
      "DEBUG: Asking scheduler for work...\n",
      "DEBUG: Done\n",
      "DEBUG: There are no more tasks to run at this time\n",
      "DEBUG: CreateAngles_CreateAnnoySeque_38e146b4f0 is currently run by worker Worker(salt=711230875, workers=4, host=Clauss-MacBook-Pro.local, username=claus, pid=53618)\n",
      "INFO: [pid 53636] Worker Worker(salt=711230875, workers=4, host=Clauss-MacBook-Pro.local, username=claus, pid=53618) running   CreateAngles(create_from=CreateAnnoySequences(create_from=RootDetectorFiles(event_id=1000)))\n",
      "DEBUG: Asking scheduler for work...\n",
      "DEBUG: Done\n",
      "DEBUG: There are no more tasks to run at this time\n",
      "DEBUG: CreateAngles_CreateAnnoySeque_38e146b4f0 is currently run by worker Worker(salt=711230875, workers=4, host=Clauss-MacBook-Pro.local, username=claus, pid=53618)\n",
      "DEBUG: Asking scheduler for work...\n",
      "DEBUG: Done\n",
      "DEBUG: There are no more tasks to run at this time\n",
      "DEBUG: CreateAngles_CreateAnnoySeque_38e146b4f0 is currently run by worker Worker(salt=711230875, workers=4, host=Clauss-MacBook-Pro.local, username=claus, pid=53618)\n",
      "DEBUG: Asking scheduler for work...\n",
      "DEBUG: Done\n",
      "DEBUG: There are no more tasks to run at this time\n",
      "DEBUG: CreateAngles_CreateAnnoySeque_38e146b4f0 is currently run by worker Worker(salt=711230875, workers=4, host=Clauss-MacBook-Pro.local, username=claus, pid=53618)\n",
      "DEBUG: Asking scheduler for work...\n",
      "DEBUG: Done\n",
      "DEBUG: There are no more tasks to run at this time\n",
      "DEBUG: CreateAngles_CreateAnnoySeque_38e146b4f0 is currently run by worker Worker(salt=711230875, workers=4, host=Clauss-MacBook-Pro.local, username=claus, pid=53618)\n",
      "INFO: [pid 53636] Worker Worker(salt=711230875, workers=4, host=Clauss-MacBook-Pro.local, username=claus, pid=53618) done      CreateAngles(create_from=CreateAnnoySequences(create_from=RootDetectorFiles(event_id=1000)))\n",
      "INFO: Informed scheduler that task   CreateAngles_CreateAnnoySeque_38e146b4f0   has status   DONE\n",
      "DEBUG: Asking scheduler for work...\n",
      "DEBUG: Pending tasks: 2\n",
      "DEBUG: Asking scheduler for work...\n",
      "DEBUG: Done\n",
      "DEBUG: There are no more tasks to run at this time\n",
      "DEBUG: CreateNormalized_CreateAngles_cre_f99702a5e3 is currently run by worker Worker(salt=711230875, workers=4, host=Clauss-MacBook-Pro.local, username=claus, pid=53618)\n",
      "INFO: [pid 53637] Worker Worker(salt=711230875, workers=4, host=Clauss-MacBook-Pro.local, username=claus, pid=53618) running   CreateNormalized(create_from=CreateAngles(create_from=CreateAnnoySequences(create_from=RootDetectorFiles(event_id=1000))))\n",
      "DEBUG: Asking scheduler for work...\n",
      "DEBUG: Done\n",
      "DEBUG: There are no more tasks to run at this time\n",
      "DEBUG: CreateNormalized_CreateAngles_cre_f99702a5e3 is currently run by worker Worker(salt=711230875, workers=4, host=Clauss-MacBook-Pro.local, username=claus, pid=53618)\n",
      "DEBUG: Asking scheduler for work...\n",
      "DEBUG: Done\n",
      "DEBUG: There are no more tasks to run at this time\n",
      "DEBUG: CreateNormalized_CreateAngles_cre_f99702a5e3 is currently run by worker Worker(salt=711230875, workers=4, host=Clauss-MacBook-Pro.local, username=claus, pid=53618)\n",
      "DEBUG: Asking scheduler for work...\n",
      "DEBUG: Done\n",
      "DEBUG: There are no more tasks to run at this time\n",
      "DEBUG: CreateNormalized_CreateAngles_cre_f99702a5e3 is currently run by worker Worker(salt=711230875, workers=4, host=Clauss-MacBook-Pro.local, username=claus, pid=53618)\n"
     ]
    },
    {
     "name": "stderr",
     "output_type": "stream",
     "text": [
      "DEBUG: Asking scheduler for work...\n",
      "DEBUG: Done\n",
      "DEBUG: There are no more tasks to run at this time\n",
      "DEBUG: CreateNormalized_CreateAngles_cre_f99702a5e3 is currently run by worker Worker(salt=711230875, workers=4, host=Clauss-MacBook-Pro.local, username=claus, pid=53618)\n",
      "INFO: [pid 53637] Worker Worker(salt=711230875, workers=4, host=Clauss-MacBook-Pro.local, username=claus, pid=53618) done      CreateNormalized(create_from=CreateAngles(create_from=CreateAnnoySequences(create_from=RootDetectorFiles(event_id=1000))))\n",
      "INFO: Informed scheduler that task   CreateNormalized_CreateAngles_cre_f99702a5e3   has status   DONE\n",
      "DEBUG: Asking scheduler for work...\n",
      "DEBUG: Pending tasks: 1\n",
      "DEBUG: Asking scheduler for work...\n",
      "DEBUG: Done\n",
      "DEBUG: There are no more tasks to run at this time\n",
      "DEBUG: DerivedRangeDetectorFiles_DerivedRangeDete__class__load_dat_1727f70173 is currently run by worker Worker(salt=711230875, workers=4, host=Clauss-MacBook-Pro.local, username=claus, pid=53618)\n",
      "INFO: [pid 53638] Worker Worker(salt=711230875, workers=4, host=Clauss-MacBook-Pro.local, username=claus, pid=53618) running   DerivedRangeDetectorFiles(derive_task=<class 'load_data_luigi.CreateNormalized'>, create_from=DerivedRangeDetectorFiles(derive_task=<class 'load_data_luigi.CreateAngles'>, create_from=DerivedRangeDetectorFiles(derive_task=<class 'load_data_luigi.create_annoy_sequences.<locals>.CreateAnnoySequences'>, create_from=RootRangeDetectorFiles(start_range=1000, end_range=1005))))\n",
      "INFO: [pid 53638] Worker Worker(salt=711230875, workers=4, host=Clauss-MacBook-Pro.local, username=claus, pid=53618) done      DerivedRangeDetectorFiles(derive_task=<class 'load_data_luigi.CreateNormalized'>, create_from=DerivedRangeDetectorFiles(derive_task=<class 'load_data_luigi.CreateAngles'>, create_from=DerivedRangeDetectorFiles(derive_task=<class 'load_data_luigi.create_annoy_sequences.<locals>.CreateAnnoySequences'>, create_from=RootRangeDetectorFiles(start_range=1000, end_range=1005))))\n",
      "INFO: Informed scheduler that task   DerivedRangeDetectorFiles_DerivedRangeDete__class__load_dat_1727f70173   has status   DONE\n",
      "DEBUG: Asking scheduler for work...\n",
      "DEBUG: Done\n",
      "DEBUG: There are no more tasks to run at this time\n",
      "INFO: Worker Worker(salt=711230875, workers=4, host=Clauss-MacBook-Pro.local, username=claus, pid=53618) was stopped. Shutting down Keep-Alive thread\n",
      "INFO: \n",
      "===== Luigi Execution Summary =====\n",
      "\n",
      "Scheduled 21 tasks of which:\n",
      "* 5 complete ones were encountered:\n",
      "    - 5 RootDetectorFiles(event_id=1000,1001,1002,1003,1004)\n",
      "* 16 ran successfully:\n",
      "    - 5 CreateAngles(create_from=CreateAnnoySequences(create_from=RootDetectorFiles(event_id=1000)),CreateAnnoySequences(create_from=RootDetectorFiles(event_id=1001)),CreateAnnoySequences(create_from=RootDetectorFiles(event_id=1002)),...)\n",
      "    - 5 CreateAnnoySequences(create_from=RootDetectorFiles(event_id=1000),RootDetectorFiles(event_id=1001),RootDetectorFiles(event_id=1002),...)\n",
      "    - 5 CreateNormalized(create_from=CreateAngles(create_from=CreateAnnoySequences(create_from=RootDetectorFiles(event_id=1000))),CreateAngles(create_from=CreateAnnoySequences(create_from=RootDetectorFiles(event_id=1001))),CreateAngles(create_from=CreateAnnoySequences(create_from=RootDetectorFiles(event_id=1002))),...)\n",
      "    - 1 DerivedRangeDetectorFiles(...)\n",
      "\n",
      "This progress looks :) because there were no failed tasks or missing dependencies\n",
      "\n",
      "===== Luigi Execution Summary =====\n",
      "\n"
     ]
    },
    {
     "data": {
      "image/png": "[encoded data removed]",
      "text/plain": [
       "<Figure size 432x288 with 1 Axes>"
      ]
     },
     "metadata": {},
     "output_type": "display_data"
    }
   ],
   "source": [
    "bucket_particle_lengths_distribution(next(annoy_buckets.load()))"
   ]
  },
  {
   "cell_type": "code",
   "execution_count": 12,
   "metadata": {},
   "outputs": [
    {
     "data": {
      "text/plain": [
       "107"
      ]
     },
     "execution_count": 12,
     "metadata": {},
     "output_type": "execute_result"
    }
   ],
   "source": [
    "hits, _ ,_ ,_ = next(annoy_buckets.load())\n",
    "hits['sequence_id'].nunique()"
   ]
  },
  {
   "cell_type": "code",
   "execution_count": 13,
   "metadata": {},
   "outputs": [
    {
     "data": {
      "text/plain": [
       "hit_id       480\n",
       "x            480\n",
       "y            480\n",
       "z            480\n",
       "module_id    480\n",
       "phi          480\n",
       "theta        480\n",
       "dtype: int64"
      ]
     },
     "execution_count": 13,
     "metadata": {},
     "output_type": "execute_result"
    }
   ],
   "source": [
    "hits.groupby(['sequence_id', 'volume_id', 'layer_id']).count().max()"
   ]
  },
  {
   "cell_type": "code",
   "execution_count": 14,
   "metadata": {},
   "outputs": [
    {
     "name": "stderr",
     "output_type": "stream",
     "text": [
      "/Users/claus/anaconda3/envs/tf2/lib/python3.7/site-packages/luigi/parameter.py:283: UserWarning: Parameter \"derive_task\" with value \"<class 'load_data_luigi.create_phi_sequences.<locals>.CreatePhiSequences'>\" is not of type string.\n",
      "  warnings.warn('Parameter \"{}\" with value \"{}\" is not of type string.'.format(param_name, param_value))\n",
      "/Users/claus/anaconda3/envs/tf2/lib/python3.7/site-packages/luigi/parameter.py:283: UserWarning: Parameter \"create_from\" with value \"DerivedRangeDetectorFiles(derive_task=<class 'load_data_luigi.create_phi_sequences.<locals>.CreatePhiSequences'>, create_from=DerivedRangeDetectorFiles(derive_task=<class 'load_data_luigi.create_sequences.<locals>.CreateSequences'>, create_from=DerivedRangeDetectorFiles(derive_task=<class 'load_data_luigi.CreateAngles'>, create_from=RootRangeDetectorFiles(start_range=1000, end_range=1005))))\" is not of type string.\n",
      "  warnings.warn('Parameter \"{}\" with value \"{}\" is not of type string.'.format(param_name, param_value))\n"
     ]
    }
   ],
   "source": [
    "phi_buckets = ld.RootRangeDetectorFiles(start_range=1000, end_range=1005)\n",
    "phi_buckets = ld.DerivedRangeDetectorFiles(create_from=phi_buckets, derive_task=ld.CreateAngles)\n",
    "phi_buckets = ld.DerivedRangeDetectorFiles(create_from=phi_buckets, derive_task=ld.create_sequences(38))\n",
    "phi_buckets = ld.DerivedRangeDetectorFiles(create_from=phi_buckets, derive_task=ld.create_phi_sequences(2))\n",
    "phi_buckets = ld.DerivedRangeDetectorFiles(create_from=phi_buckets, derive_task=ld.CreateNormalized)"
   ]
  },
  {
   "cell_type": "code",
   "execution_count": 15,
   "metadata": {
    "scrolled": true
   },
   "outputs": [
    {
     "name": "stderr",
     "output_type": "stream",
     "text": [
      "DEBUG: Checking if DerivedRangeDetectorFiles(derive_task=<class 'load_data_luigi.CreateNormalized'>, create_from=DerivedRangeDetectorFiles(derive_task=<class 'load_data_luigi.create_phi_sequences.<locals>.CreatePhiSequences'>, create_from=DerivedRangeDetectorFiles(derive_task=<class 'load_data_luigi.create_sequences.<locals>.CreateSequences'>, create_from=DerivedRangeDetectorFiles(derive_task=<class 'load_data_luigi.CreateAngles'>, create_from=RootRangeDetectorFiles(start_range=1000, end_range=1005))))) is complete\n",
      "/Users/claus/anaconda3/envs/tf2/lib/python3.7/site-packages/luigi/parameter.py:283: UserWarning: Parameter \"create_from\" with value \"CreatePhiSequences(create_from=CreateSequences(create_from=CreateAngles(create_from=RootDetectorFiles(event_id=1000))))\" is not of type string.\n",
      "  warnings.warn('Parameter \"{}\" with value \"{}\" is not of type string.'.format(param_name, param_value))\n",
      "/Users/claus/anaconda3/envs/tf2/lib/python3.7/site-packages/luigi/parameter.py:283: UserWarning: Parameter \"create_from\" with value \"CreatePhiSequences(create_from=CreateSequences(create_from=CreateAngles(create_from=RootDetectorFiles(event_id=1001))))\" is not of type string.\n",
      "  warnings.warn('Parameter \"{}\" with value \"{}\" is not of type string.'.format(param_name, param_value))\n",
      "/Users/claus/anaconda3/envs/tf2/lib/python3.7/site-packages/luigi/parameter.py:283: UserWarning: Parameter \"create_from\" with value \"CreatePhiSequences(create_from=CreateSequences(create_from=CreateAngles(create_from=RootDetectorFiles(event_id=1002))))\" is not of type string.\n",
      "  warnings.warn('Parameter \"{}\" with value \"{}\" is not of type string.'.format(param_name, param_value))\n",
      "/Users/claus/anaconda3/envs/tf2/lib/python3.7/site-packages/luigi/parameter.py:283: UserWarning: Parameter \"create_from\" with value \"CreatePhiSequences(create_from=CreateSequences(create_from=CreateAngles(create_from=RootDetectorFiles(event_id=1003))))\" is not of type string.\n",
      "  warnings.warn('Parameter \"{}\" with value \"{}\" is not of type string.'.format(param_name, param_value))\n",
      "/Users/claus/anaconda3/envs/tf2/lib/python3.7/site-packages/luigi/parameter.py:283: UserWarning: Parameter \"create_from\" with value \"CreatePhiSequences(create_from=CreateSequences(create_from=CreateAngles(create_from=RootDetectorFiles(event_id=1004))))\" is not of type string.\n",
      "  warnings.warn('Parameter \"{}\" with value \"{}\" is not of type string.'.format(param_name, param_value))\n",
      "INFO: Informed scheduler that task   DerivedRangeDetectorFiles_DerivedRangeDete__class__load_dat_42ac6e9f79   has status   DONE\n",
      "INFO: Done scheduling tasks\n",
      "INFO: Running Worker with 4 processes\n",
      "DEBUG: Asking scheduler for work...\n",
      "DEBUG: Done\n",
      "DEBUG: There are no more tasks to run at this time\n",
      "INFO: Worker Worker(salt=787902413, workers=4, host=Clauss-MacBook-Pro.local, username=claus, pid=53618) was stopped. Shutting down Keep-Alive thread\n",
      "INFO: \n",
      "===== Luigi Execution Summary =====\n",
      "\n",
      "Scheduled 1 tasks of which:\n",
      "* 1 complete ones were encountered:\n",
      "    - 1 DerivedRangeDetectorFiles(...)\n",
      "\n",
      "Did not run any tasks\n",
      "This progress looks :) because there were no failed tasks or missing dependencies\n",
      "\n",
      "===== Luigi Execution Summary =====\n",
      "\n"
     ]
    },
    {
     "data": {
      "image/png": "[encoded data removed]",
      "text/plain": [
       "<Figure size 432x288 with 1 Axes>"
      ]
     },
     "metadata": {},
     "output_type": "display_data"
    }
   ],
   "source": [
    "bucket_particle_lengths_distribution(next(phi_buckets.load()))"
   ]
  },
  {
   "cell_type": "code",
   "execution_count": 16,
   "metadata": {},
   "outputs": [
    {
     "data": {
      "text/plain": [
       "56"
      ]
     },
     "execution_count": 16,
     "metadata": {},
     "output_type": "execute_result"
    }
   ],
   "source": [
    "hits, _ ,_ ,_ = next(phi_buckets.load())\n",
    "hits['sequence_id'].nunique()"
   ]
  },
  {
   "cell_type": "code",
   "execution_count": 17,
   "metadata": {},
   "outputs": [
    {
     "data": {
      "text/plain": [
       "hit_id       456\n",
       "x            456\n",
       "y            456\n",
       "z            456\n",
       "module_id    456\n",
       "phi          456\n",
       "theta        456\n",
       "dtype: int64"
      ]
     },
     "execution_count": 17,
     "metadata": {},
     "output_type": "execute_result"
    }
   ],
   "source": [
    "hits.groupby(['sequence_id', 'volume_id', 'layer_id']).count().max()"
   ]
  },
  {
   "cell_type": "markdown",
   "metadata": {},
   "source": [
    "# Number of hits and particles"
   ]
  },
  {
   "cell_type": "code",
   "execution_count": 29,
   "metadata": {},
   "outputs": [
    {
     "name": "stderr",
     "output_type": "stream",
     "text": [
      "/Users/claus/anaconda3/envs/tf2/lib/python3.7/site-packages/luigi/parameter.py:283: UserWarning: Parameter \"end_range\" with value \"2400\" is not of type string.\n",
      "  warnings.warn('Parameter \"{}\" with value \"{}\" is not of type string.'.format(param_name, param_value))\n"
     ]
    }
   ],
   "source": [
    "events1 = ld.RootRangeDetectorFiles(start_range=1000, end_range=2400)\n",
    "events2 = ld.RootRangeDetectorFiles(start_range=2450, end_range=2820)"
   ]
  },
  {
   "cell_type": "code",
   "execution_count": 36,
   "metadata": {},
   "outputs": [],
   "source": [
    "def get_average_hits_and_particles(event_ranges):\n",
    "    no_hits = []\n",
    "    no_parts = []\n",
    "    \n",
    "    for e in event_ranges:\n",
    "        for hits, _, _, truth in e.load():\n",
    "            no_hits.append(len(hits))\n",
    "            no_parts.append(truth['particle_id'].nunique() - 1)\n",
    "        \n",
    "    return no_hits, no_parts"
   ]
  },
  {
   "cell_type": "code",
   "execution_count": 37,
   "metadata": {},
   "outputs": [],
   "source": [
    "no_hits, no_parts = get_average_hits_and_particles([events1, events2])"
   ]
  },
  {
   "cell_type": "code",
   "execution_count": 38,
   "metadata": {},
   "outputs": [
    {
     "data": {
      "text/plain": [
       "<matplotlib.axes._subplots.AxesSubplot at 0x1429b9d10>"
      ]
     },
     "execution_count": 38,
     "metadata": {},
     "output_type": "execute_result"
    },
    {
     "data": {
      "image/png": "[encoded data removed]",
      "text/plain": [
       "<Figure size 432x288 with 1 Axes>"
      ]
     },
     "metadata": {
      "needs_background": "light"
     },
     "output_type": "display_data"
    }
   ],
   "source": [
    "sns.distplot(no_hits)"
   ]
  },
  {
   "cell_type": "code",
   "execution_count": 39,
   "metadata": {},
   "outputs": [
    {
     "data": {
      "text/plain": [
       "<matplotlib.axes._subplots.AxesSubplot at 0x142de0f50>"
      ]
     },
     "execution_count": 39,
     "metadata": {},
     "output_type": "execute_result"
    },
    {
     "data": {
      "image/png": "[encoded data removed]",
      "text/plain": [
       "<Figure size 432x288 with 1 Axes>"
      ]
     },
     "metadata": {
      "needs_background": "light"
     },
     "output_type": "display_data"
    }
   ],
   "source": [
    "sns.distplot(no_parts)"
   ]
  },
  {
   "cell_type": "code",
   "execution_count": 40,
   "metadata": {},
   "outputs": [
    {
     "data": {
      "text/plain": [
       "109394.62881355932"
      ]
     },
     "execution_count": 40,
     "metadata": {},
     "output_type": "execute_result"
    }
   ],
   "source": [
    "np.mean(no_hits)"
   ]
  },
  {
   "cell_type": "code",
   "execution_count": 41,
   "metadata": {},
   "outputs": [
    {
     "data": {
      "text/plain": [
       "9277.931073446327"
      ]
     },
     "execution_count": 41,
     "metadata": {},
     "output_type": "execute_result"
    }
   ],
   "source": [
    "np.mean(no_parts)"
   ]
  },
  {
   "cell_type": "code",
   "execution_count": null,
   "metadata": {},
   "outputs": [],
   "source": []
  }
 ],
 "metadata": {
  "kernelspec": {
   "display_name": "Python 3",
   "language": "python",
   "name": "python3"
  },
  "language_info": {
   "codemirror_mode": {
    "name": "ipython",
    "version": 3
   },
   "file_extension": ".py",
   "mimetype": "text/x-python",
   "name": "python",
   "nbconvert_exporter": "python",
   "pygments_lexer": "ipython3",
   "version": "3.7.5"
  },
  "pycharm": {
   "stem_cell": {
    "cell_type": "raw",
    "source": [],
    "metadata": {
     "collapsed": false
    }
   }
  }
 },
 "nbformat": 4,
 "nbformat_minor": 2
}