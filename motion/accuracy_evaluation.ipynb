{
 "cells": [
  {
   "cell_type": "markdown",
   "metadata": {},
   "source": [
    "# Tracker Accuracy Evaluation"
   ]
  },
  {
   "cell_type": "code",
   "execution_count": 1,
   "metadata": {},
   "outputs": [],
   "source": [
    "import sys\n",
    "sys.path.append('../')\n",
    "import warnings\n",
    "warnings.filterwarnings('ignore')\n",
    "import tensorflow as tf\n",
    "import logging\n",
    "logger = tf.get_logger()\n",
    "logger.setLevel(logging.ERROR)\n",
    "import load_data_luigi as ld\n",
    "import numpy as np\n",
    "import matplotlib.pyplot as plt\n",
    "import seaborn as sns"
   ]
  },
  {
   "cell_type": "code",
   "execution_count": 2,
   "metadata": {},
   "outputs": [
    {
     "name": "stdout",
     "output_type": "stream",
     "text": [
      "Using /home/claus/tracking/data/train_1 for data files\n"
     ]
    }
   ],
   "source": [
    "from motion.output_creator import OutputCreator\n",
    "from network_configuration import *\n",
    "from motion.multi_volume_tracker import FullMultiVolumeTracker, PredictionMultiVolumeTracker\n",
    "from functools import reduce"
   ]
  },
  {
   "cell_type": "code",
   "execution_count": 3,
   "metadata": {},
   "outputs": [],
   "source": [
    "def test_accuracies(tracker, events, samples=True, score_only=None):\n",
    "    output_creator = OutputCreator(tracker.configuration, tracker.model)\n",
    "    events_scores_no_exist = []\n",
    "    events_scores_exist = []\n",
    "    events.build()\n",
    "    for event in events.requires():\n",
    "        event.built = True\n",
    "        if samples:\n",
    "            scores_no_exist = output_creator.score_output(event, score_on_full_event=False, score_sequences=True, score_only=score_only)\n",
    "            scores_exist = output_creator.score_output(event, score_on_full_event=False, score_sequences=True, existence_correction=True, score_only=score_only)\n",
    "        else:\n",
    "            scores_no_exist = output_creator.score_output(event, score_on_full_event=True, score_sequences=False, score_only=score_only)\n",
    "            scores_exist = output_creator.score_output(event, score_on_full_event=True, score_sequences=False, existence_correction=True, score_only=score_only)\n",
    "        events_scores_no_exist.append(scores_no_exist)\n",
    "        events_scores_exist.append(scores_exist)\n",
    "    \n",
    "    if samples:\n",
    "        events_scores_no_exist = reduce(lambda a,b: a+b, events_scores_no_exist)\n",
    "        events_scores_exist = reduce(lambda a,b: a+b, events_scores_exist)\n",
    "    \n",
    "    return events_scores_no_exist, events_scores_exist"
   ]
  },
  {
   "cell_type": "code",
   "execution_count": 4,
   "metadata": {},
   "outputs": [
    {
     "name": "stderr",
     "output_type": "stream",
     "text": [
      "DEBUG: Checking if DerivedRangeDetectorFiles(derive_task=<class 'load_data_luigi.CreateNormalized'>, create_from=DerivedRangeDetectorFiles(derive_task=<class 'load_data_luigi.CreateAngles'>, create_from=RootRangeDetectorFiles(start_range=1432, end_range=1480))) is complete\n",
      "INFO: Informed scheduler that task   DerivedRangeDetectorFiles_DerivedRangeDete__class__load_dat_3798bb78d9   has status   DONE\n",
      "INFO: Done scheduling tasks\n",
      "INFO: Running Worker with 32 processes\n",
      "DEBUG: Asking scheduler for work...\n",
      "DEBUG: Done\n",
      "DEBUG: There are no more tasks to run at this time\n",
      "INFO: Worker Worker(salt=130493487, workers=32, host=luke, username=claus, pid=19904) was stopped. Shutting down Keep-Alive thread\n",
      "INFO: \n",
      "===== Luigi Execution Summary =====\n",
      "\n",
      "Scheduled 1 tasks of which:\n",
      "* 1 complete ones were encountered:\n",
      "    - 1 DerivedRangeDetectorFiles(...)\n",
      "\n",
      "Did not run any tasks\n",
      "This progress looks :) because there were no failed tasks or missing dependencies\n",
      "\n",
      "===== Luigi Execution Summary =====\n",
      "\n"
     ]
    }
   ],
   "source": [
    "events = ld.RootRangeDetectorFiles(start_range=1432, end_range=1480)\n",
    "events = ld.DerivedRangeDetectorFiles(create_from=events, derive_task=ld.CreateAngles)\n",
    "events = ld.DerivedRangeDetectorFiles(create_from=events, derive_task=ld.CreateNormalized)\n",
    "events.build()"
   ]
  },
  {
   "cell_type": "markdown",
   "metadata": {},
   "source": [
    "## Subset of 20 particles\n",
    "### Milan Model"
   ]
  },
  {
   "cell_type": "code",
   "execution_count": 5,
   "metadata": {
    "scrolled": true
   },
   "outputs": [
    {
     "name": "stdout",
     "output_type": "stream",
     "text": [
      "Creating model for volume Pixel.BARREL\n",
      "Creating model for volume Pixel.POSITIVE_EC\n",
      "Creating model for volume Pixel.NEGATIVE_EC\n",
      "Creating model for volume ShortStrip.BARREL\n",
      "Creating model for volume ShortStrip.POSITIVE_EC\n",
      "Creating model for volume ShortStrip.NEGATIVE_EC\n",
      "Creating model for volume LongStrip.BARREL\n",
      "Creating model for volume LongStrip.POSITIVE_EC\n",
      "Creating model for volume LongStrip.NEGATIVE_EC\n"
     ]
    }
   ],
   "source": [
    "milan_model = FullMultiVolumeTracker(sampled_milan_config, do_load_full=True)"
   ]
  },
  {
   "cell_type": "code",
   "execution_count": 6,
   "metadata": {},
   "outputs": [],
   "source": [
    "events_scores_no_exist, events_scores_exist = test_accuracies(milan_model, events)"
   ]
  },
  {
   "cell_type": "code",
   "execution_count": 7,
   "metadata": {
    "scrolled": true
   },
   "outputs": [
    {
     "data": {
      "text/plain": [
       "<matplotlib.axes._subplots.AxesSubplot at 0x7f80ba809750>"
      ]
     },
     "execution_count": 7,
     "metadata": {},
     "output_type": "execute_result"
    },
    {
     "data": {
      "image/png": "[encoded data removed]",
      "text/plain": [
       "<Figure size 432x288 with 1 Axes>"
      ]
     },
     "metadata": {
      "needs_background": "light"
     },
     "output_type": "display_data"
    }
   ],
   "source": [
    "sns.distplot(events_scores_no_exist)"
   ]
  },
  {
   "cell_type": "code",
   "execution_count": 8,
   "metadata": {},
   "outputs": [
    {
     "data": {
      "text/plain": [
       "<matplotlib.axes._subplots.AxesSubplot at 0x7f80b835a8d0>"
      ]
     },
     "execution_count": 8,
     "metadata": {},
     "output_type": "execute_result"
    },
    {
     "data": {
      "image/png": "[encoded data removed]",
      "text/plain": [
       "<Figure size 432x288 with 1 Axes>"
      ]
     },
     "metadata": {
      "needs_background": "light"
     },
     "output_type": "display_data"
    }
   ],
   "source": [
    "sns.distplot(events_scores_exist)"
   ]
  },
  {
   "cell_type": "code",
   "execution_count": 9,
   "metadata": {},
   "outputs": [
    {
     "data": {
      "text/plain": [
       "(0.46729630171701664, 0.513430857251883)"
      ]
     },
     "execution_count": 9,
     "metadata": {},
     "output_type": "execute_result"
    }
   ],
   "source": [
    "np.mean(events_scores_no_exist), np.mean(events_scores_exist)"
   ]
  },
  {
   "cell_type": "markdown",
   "metadata": {},
   "source": [
    "The model similar to the one proposed by Milan et al. scores on average 0.467 without existence correction and 0.513 with existence correction."
   ]
  },
  {
   "cell_type": "markdown",
   "metadata": {},
   "source": [
    "### Milan Model without Existence Regularization"
   ]
  },
  {
   "cell_type": "code",
   "execution_count": 10,
   "metadata": {},
   "outputs": [
    {
     "name": "stdout",
     "output_type": "stream",
     "text": [
      "Creating model for volume Pixel.BARREL\n",
      "Creating model for volume Pixel.POSITIVE_EC\n",
      "Creating model for volume Pixel.NEGATIVE_EC\n",
      "Creating model for volume ShortStrip.BARREL\n",
      "Creating model for volume ShortStrip.POSITIVE_EC\n",
      "Creating model for volume ShortStrip.NEGATIVE_EC\n",
      "Creating model for volume LongStrip.BARREL\n",
      "Creating model for volume LongStrip.POSITIVE_EC\n",
      "Creating model for volume LongStrip.NEGATIVE_EC\n"
     ]
    }
   ],
   "source": [
    "sampled_milan_no_exist_regul_model = FullMultiVolumeTracker(sampled_milan_no_exist_regul_config, do_load_full=True)"
   ]
  },
  {
   "cell_type": "code",
   "execution_count": 11,
   "metadata": {},
   "outputs": [],
   "source": [
    "events_scores_no_exist, events_scores_exist = test_accuracies(sampled_milan_no_exist_regul_model, events)"
   ]
  },
  {
   "cell_type": "code",
   "execution_count": 12,
   "metadata": {},
   "outputs": [
    {
     "data": {
      "text/plain": [
       "<matplotlib.axes._subplots.AxesSubplot at 0x7f7eb28996d0>"
      ]
     },
     "execution_count": 12,
     "metadata": {},
     "output_type": "execute_result"
    },
    {
     "data": {
      "image/png": "[encoded data removed]",
      "text/plain": [
       "<Figure size 432x288 with 1 Axes>"
      ]
     },
     "metadata": {
      "needs_background": "light"
     },
     "output_type": "display_data"
    }
   ],
   "source": [
    "sns.distplot(events_scores_no_exist)"
   ]
  },
  {
   "cell_type": "code",
   "execution_count": 13,
   "metadata": {},
   "outputs": [
    {
     "data": {
      "text/plain": [
       "<matplotlib.axes._subplots.AxesSubplot at 0x7f80b83ce610>"
      ]
     },
     "execution_count": 13,
     "metadata": {},
     "output_type": "execute_result"
    },
    {
     "data": {
      "image/png": "[encoded data removed]",
      "text/plain": [
       "<Figure size 432x288 with 1 Axes>"
      ]
     },
     "metadata": {
      "needs_background": "light"
     },
     "output_type": "display_data"
    }
   ],
   "source": [
    "sns.distplot(events_scores_exist)"
   ]
  },
  {
   "cell_type": "code",
   "execution_count": 14,
   "metadata": {},
   "outputs": [
    {
     "data": {
      "text/plain": [
       "(0.4626233040835367, 0.5251373433800361)"
      ]
     },
     "execution_count": 14,
     "metadata": {},
     "output_type": "execute_result"
    }
   ],
   "source": [
    "np.mean(events_scores_no_exist), np.mean(events_scores_exist)"
   ]
  },
  {
   "cell_type": "markdown",
   "metadata": {},
   "source": [
    "The Milan model without existence regularization scores 0.463 without existence correction and 0.525 with existence correction"
   ]
  },
  {
   "cell_type": "markdown",
   "metadata": {},
   "source": [
    "### Milan Model with LSTM in Motion Model"
   ]
  },
  {
   "cell_type": "code",
   "execution_count": 15,
   "metadata": {},
   "outputs": [
    {
     "name": "stdout",
     "output_type": "stream",
     "text": [
      "Creating model for volume Pixel.BARREL\n",
      "Creating model for volume Pixel.POSITIVE_EC\n",
      "Creating model for volume Pixel.NEGATIVE_EC\n",
      "Creating model for volume ShortStrip.BARREL\n",
      "Creating model for volume ShortStrip.POSITIVE_EC\n",
      "Creating model for volume ShortStrip.NEGATIVE_EC\n",
      "Creating model for volume LongStrip.BARREL\n",
      "Creating model for volume LongStrip.POSITIVE_EC\n",
      "Creating model for volume LongStrip.NEGATIVE_EC\n"
     ]
    }
   ],
   "source": [
    "sampled_milan_lstm_motion_no_exist_regul_model = FullMultiVolumeTracker(sampled_milan_lstm_motion_no_exist_regul_config, do_load_full=True)"
   ]
  },
  {
   "cell_type": "code",
   "execution_count": 16,
   "metadata": {},
   "outputs": [],
   "source": [
    "events_scores_no_exist, events_scores_exist = test_accuracies(sampled_milan_lstm_motion_no_exist_regul_model, events)"
   ]
  },
  {
   "cell_type": "code",
   "execution_count": 17,
   "metadata": {},
   "outputs": [
    {
     "data": {
      "text/plain": [
       "<matplotlib.axes._subplots.AxesSubplot at 0x7f7c8b0dadd0>"
      ]
     },
     "execution_count": 17,
     "metadata": {},
     "output_type": "execute_result"
    },
    {
     "data": {
      "image/png": "[encoded data removed]",
      "text/plain": [
       "<Figure size 432x288 with 1 Axes>"
      ]
     },
     "metadata": {
      "needs_background": "light"
     },
     "output_type": "display_data"
    }
   ],
   "source": [
    "sns.distplot(events_scores_no_exist)"
   ]
  },
  {
   "cell_type": "code",
   "execution_count": 18,
   "metadata": {},
   "outputs": [
    {
     "data": {
      "text/plain": [
       "<matplotlib.axes._subplots.AxesSubplot at 0x7f7c8b0a9510>"
      ]
     },
     "execution_count": 18,
     "metadata": {},
     "output_type": "execute_result"
    },
    {
     "data": {
      "image/png": "[encoded data removed]",
      "text/plain": [
       "<Figure size 432x288 with 1 Axes>"
      ]
     },
     "metadata": {
      "needs_background": "light"
     },
     "output_type": "display_data"
    }
   ],
   "source": [
    "sns.distplot(events_scores_exist)"
   ]
  },
  {
   "cell_type": "code",
   "execution_count": 19,
   "metadata": {},
   "outputs": [
    {
     "data": {
      "text/plain": [
       "(0.6417120513295713, 0.6694777230675742)"
      ]
     },
     "execution_count": 19,
     "metadata": {},
     "output_type": "execute_result"
    }
   ],
   "source": [
    "np.mean(events_scores_no_exist), np.mean(events_scores_exist)"
   ]
  },
  {
   "cell_type": "markdown",
   "metadata": {},
   "source": [
    "The Milan model using an LSTM in the motion model scores 0.642 without existence correction and 0.669 with existence correction."
   ]
  },
  {
   "cell_type": "markdown",
   "metadata": {},
   "source": [
    "### Model with LSTM Motion Model and Dense Association Model"
   ]
  },
  {
   "cell_type": "code",
   "execution_count": 20,
   "metadata": {},
   "outputs": [
    {
     "name": "stdout",
     "output_type": "stream",
     "text": [
      "Creating model for volume Pixel.BARREL\n",
      "Creating model for volume Pixel.POSITIVE_EC\n",
      "Creating model for volume Pixel.NEGATIVE_EC\n",
      "Creating model for volume ShortStrip.BARREL\n",
      "Creating model for volume ShortStrip.POSITIVE_EC\n",
      "Creating model for volume ShortStrip.NEGATIVE_EC\n",
      "Creating model for volume LongStrip.BARREL\n",
      "Creating model for volume LongStrip.POSITIVE_EC\n",
      "Creating model for volume LongStrip.NEGATIVE_EC\n"
     ]
    }
   ],
   "source": [
    "sampled_dense_assoc_lstm_motion_model = FullMultiVolumeTracker(sampled_dense_assoc_lstm_motion_config, do_load_full=True)"
   ]
  },
  {
   "cell_type": "code",
   "execution_count": 21,
   "metadata": {
    "scrolled": true
   },
   "outputs": [],
   "source": [
    "events_scores_no_exist, events_scores_exist = test_accuracies(sampled_dense_assoc_lstm_motion_model, events)"
   ]
  },
  {
   "cell_type": "code",
   "execution_count": 22,
   "metadata": {},
   "outputs": [
    {
     "data": {
      "text/plain": [
       "<matplotlib.axes._subplots.AxesSubplot at 0x7f7bdb12c950>"
      ]
     },
     "execution_count": 22,
     "metadata": {},
     "output_type": "execute_result"
    },
    {
     "data": {
      "image/png": "[encoded data removed]",
      "text/plain": [
       "<Figure size 432x288 with 1 Axes>"
      ]
     },
     "metadata": {
      "needs_background": "light"
     },
     "output_type": "display_data"
    }
   ],
   "source": [
    "sns.distplot(events_scores_no_exist)"
   ]
  },
  {
   "cell_type": "code",
   "execution_count": 23,
   "metadata": {},
   "outputs": [
    {
     "data": {
      "text/plain": [
       "<matplotlib.axes._subplots.AxesSubplot at 0x7f7bdb0880d0>"
      ]
     },
     "execution_count": 23,
     "metadata": {},
     "output_type": "execute_result"
    },
    {
     "data": {
      "image/png": "[encoded data removed]",
      "text/plain": [
       "<Figure size 432x288 with 1 Axes>"
      ]
     },
     "metadata": {
      "needs_background": "light"
     },
     "output_type": "display_data"
    }
   ],
   "source": [
    "sns.distplot(events_scores_exist)"
   ]
  },
  {
   "cell_type": "code",
   "execution_count": 24,
   "metadata": {},
   "outputs": [
    {
     "data": {
      "text/plain": [
       "(0.6377773683772141, 0.6639065675628681)"
      ]
     },
     "execution_count": 24,
     "metadata": {},
     "output_type": "execute_result"
    }
   ],
   "source": [
    "np.mean(events_scores_no_exist), np.mean(events_scores_exist)"
   ]
  },
  {
   "cell_type": "markdown",
   "metadata": {},
   "source": [
    "The model with LSTM in the motion model and dense association scores 0.638 without existence correction and 0.664 with existence correction"
   ]
  },
  {
   "cell_type": "markdown",
   "metadata": {},
   "source": [
    "### Model with LSTM Motion Model, Dense Association Model and wihtout Existence Weighting"
   ]
  },
  {
   "cell_type": "code",
   "execution_count": 5,
   "metadata": {},
   "outputs": [
    {
     "name": "stdout",
     "output_type": "stream",
     "text": [
      "Creating model for volume Pixel.BARREL\n",
      "Creating model for volume Pixel.POSITIVE_EC\n",
      "Creating model for volume Pixel.NEGATIVE_EC\n",
      "Creating model for volume ShortStrip.BARREL\n",
      "Creating model for volume ShortStrip.POSITIVE_EC\n",
      "Creating model for volume ShortStrip.NEGATIVE_EC\n",
      "Creating model for volume LongStrip.BARREL\n",
      "Creating model for volume LongStrip.POSITIVE_EC\n",
      "Creating model for volume LongStrip.NEGATIVE_EC\n"
     ]
    }
   ],
   "source": [
    "sampled_dense_assoc_lstm_motion_no_exist_weighting_model = FullMultiVolumeTracker(sampled_dense_assoc_lstm_motion_no_exist_weighting_config, do_load_full=True)"
   ]
  },
  {
   "cell_type": "code",
   "execution_count": 6,
   "metadata": {},
   "outputs": [],
   "source": [
    "events_scores_no_exist, events_scores_exist = test_accuracies(sampled_dense_assoc_lstm_motion_no_exist_weighting_model, events)"
   ]
  },
  {
   "cell_type": "code",
   "execution_count": 7,
   "metadata": {},
   "outputs": [
    {
     "data": {
      "text/plain": [
       "<matplotlib.axes._subplots.AxesSubplot at 0x7f0962d30bd0>"
      ]
     },
     "execution_count": 7,
     "metadata": {},
     "output_type": "execute_result"
    },
    {
     "data": {
      "image/png": "[encoded data removed]",
      "text/plain": [
       "<Figure size 432x288 with 1 Axes>"
      ]
     },
     "metadata": {
      "needs_background": "light"
     },
     "output_type": "display_data"
    }
   ],
   "source": [
    "sns.distplot(events_scores_no_exist)"
   ]
  },
  {
   "cell_type": "code",
   "execution_count": 8,
   "metadata": {},
   "outputs": [
    {
     "data": {
      "text/plain": [
       "<matplotlib.axes._subplots.AxesSubplot at 0x7f0960865190>"
      ]
     },
     "execution_count": 8,
     "metadata": {},
     "output_type": "execute_result"
    },
    {
     "data": {
      "image/png": "[encoded data removed]",
      "text/plain": [
       "<Figure size 432x288 with 1 Axes>"
      ]
     },
     "metadata": {
      "needs_background": "light"
     },
     "output_type": "display_data"
    }
   ],
   "source": [
    "sns.distplot(events_scores_exist)"
   ]
  },
  {
   "cell_type": "code",
   "execution_count": 9,
   "metadata": {},
   "outputs": [
    {
     "data": {
      "text/plain": [
       "(0.6132593013678957, 0.6597049499589799)"
      ]
     },
     "execution_count": 9,
     "metadata": {},
     "output_type": "execute_result"
    }
   ],
   "source": [
    "np.mean(events_scores_no_exist), np.mean(events_scores_exist)"
   ]
  },
  {
   "cell_type": "markdown",
   "metadata": {},
   "source": [
    "The model with LSTM motion model, dense association model and wihtout existence weighting scores 0.613 without existence correction 0.660 with existence correction."
   ]
  },
  {
   "cell_type": "markdown",
   "metadata": {},
   "source": [
    "# 200 particles"
   ]
  },
  {
   "cell_type": "code",
   "execution_count": 10,
   "metadata": {},
   "outputs": [
    {
     "name": "stdout",
     "output_type": "stream",
     "text": [
      "Creating model for volume Pixel.BARREL\n",
      "Creating model for volume Pixel.POSITIVE_EC\n",
      "Creating model for volume Pixel.NEGATIVE_EC\n",
      "Creating model for volume ShortStrip.BARREL\n",
      "Creating model for volume ShortStrip.POSITIVE_EC\n",
      "Creating model for volume ShortStrip.NEGATIVE_EC\n",
      "Creating model for volume LongStrip.BARREL\n",
      "Creating model for volume LongStrip.POSITIVE_EC\n",
      "Creating model for volume LongStrip.NEGATIVE_EC\n"
     ]
    }
   ],
   "source": [
    "model_200 = FullMultiVolumeTracker(sampled_row_col_config_200, do_load_full=True)"
   ]
  },
  {
   "cell_type": "code",
   "execution_count": 11,
   "metadata": {},
   "outputs": [],
   "source": [
    "events_scores_no_exist, events_scores_exist = test_accuracies(model_200, events)"
   ]
  },
  {
   "cell_type": "code",
   "execution_count": 12,
   "metadata": {},
   "outputs": [
    {
     "data": {
      "text/plain": [
       "<matplotlib.axes._subplots.AxesSubplot at 0x7f092867ccd0>"
      ]
     },
     "execution_count": 12,
     "metadata": {},
     "output_type": "execute_result"
    },
    {
     "data": {
      "image/png": "[encoded data removed]",
      "text/plain": [
       "<Figure size 432x288 with 1 Axes>"
      ]
     },
     "metadata": {
      "needs_background": "light"
     },
     "output_type": "display_data"
    }
   ],
   "source": [
    "sns.distplot(events_scores_no_exist)"
   ]
  },
  {
   "cell_type": "code",
   "execution_count": 13,
   "metadata": {},
   "outputs": [
    {
     "data": {
      "text/plain": [
       "<matplotlib.axes._subplots.AxesSubplot at 0x7f09285072d0>"
      ]
     },
     "execution_count": 13,
     "metadata": {},
     "output_type": "execute_result"
    },
    {
     "data": {
      "image/png": "[encoded data removed]",
      "text/plain": [
       "<Figure size 432x288 with 1 Axes>"
      ]
     },
     "metadata": {
      "needs_background": "light"
     },
     "output_type": "display_data"
    }
   ],
   "source": [
    "sns.distplot(events_scores_exist)"
   ]
  },
  {
   "cell_type": "code",
   "execution_count": 14,
   "metadata": {},
   "outputs": [
    {
     "data": {
      "text/plain": [
       "(0.20240180725806553, 0.24276368829340284)"
      ]
     },
     "execution_count": 14,
     "metadata": {},
     "output_type": "execute_result"
    }
   ],
   "source": [
    "np.mean(events_scores_no_exist), np.mean(events_scores_exist)"
   ]
  },
  {
   "cell_type": "markdown",
   "metadata": {},
   "source": [
    "The model with LSTM motion model, dense association model and wihtout existence weighting scores 0.202 without existence correction and 0.243 with existence correction on a sample of 200 particles."
   ]
  },
  {
   "cell_type": "markdown",
   "metadata": {},
   "source": [
    "# Full Event"
   ]
  },
  {
   "cell_type": "code",
   "execution_count": 15,
   "metadata": {},
   "outputs": [
    {
     "name": "stderr",
     "output_type": "stream",
     "text": [
      "DEBUG: Checking if DerivedRangeDetectorFiles(derive_task=<class 'load_data_luigi.CreateNormalized'>, create_from=DerivedRangeDetectorFiles(derive_task=<class 'load_data_luigi.create_phi_sequences.<locals>.CreatePhiSequences'>, create_from=DerivedRangeDetectorFiles(derive_task=<class 'load_data_luigi.create_sequences.<locals>.CreateSequences'>, create_from=DerivedRangeDetectorFiles(derive_task=<class 'load_data_luigi.CreateAngles'>, create_from=RootRangeDetectorFiles(start_range=1432, end_range=1437))))) is complete\n",
      "INFO: Informed scheduler that task   DerivedRangeDetectorFiles_DerivedRangeDete__class__load_dat_2c16c63cd3   has status   DONE\n",
      "INFO: Done scheduling tasks\n",
      "INFO: Running Worker with 32 processes\n",
      "DEBUG: Asking scheduler for work...\n",
      "DEBUG: Done\n",
      "DEBUG: There are no more tasks to run at this time\n",
      "INFO: Worker Worker(salt=468346526, workers=32, host=luke, username=claus, pid=19904) was stopped. Shutting down Keep-Alive thread\n",
      "INFO: \n",
      "===== Luigi Execution Summary =====\n",
      "\n",
      "Scheduled 1 tasks of which:\n",
      "* 1 complete ones were encountered:\n",
      "    - 1 DerivedRangeDetectorFiles(...)\n",
      "\n",
      "Did not run any tasks\n",
      "This progress looks :) because there were no failed tasks or missing dependencies\n",
      "\n",
      "===== Luigi Execution Summary =====\n",
      "\n"
     ]
    }
   ],
   "source": [
    "events = ld.RootRangeDetectorFiles(start_range=1432, end_range=1437)\n",
    "events = ld.DerivedRangeDetectorFiles(create_from=events, derive_task=ld.CreateAngles)\n",
    "events = ld.DerivedRangeDetectorFiles(create_from=events, derive_task=ld.create_sequences(14))\n",
    "events = ld.DerivedRangeDetectorFiles(create_from=events,\n",
    "                                                  derive_task=ld.create_phi_sequences(4))\n",
    "events = ld.DerivedRangeDetectorFiles(create_from=events, derive_task=ld.CreateNormalized)\n",
    "events.build()"
   ]
  },
  {
   "cell_type": "code",
   "execution_count": 16,
   "metadata": {},
   "outputs": [
    {
     "name": "stdout",
     "output_type": "stream",
     "text": [
      "Creating model for volume Pixel.BARREL\n",
      "Creating model for volume Pixel.POSITIVE_EC\n",
      "Creating model for volume Pixel.NEGATIVE_EC\n",
      "Creating model for volume ShortStrip.BARREL\n",
      "Creating model for volume ShortStrip.POSITIVE_EC\n",
      "Creating model for volume ShortStrip.NEGATIVE_EC\n",
      "Creating model for volume LongStrip.BARREL\n",
      "Creating model for volume LongStrip.POSITIVE_EC\n",
      "Creating model for volume LongStrip.NEGATIVE_EC\n"
     ]
    }
   ],
   "source": [
    "model_full = FullMultiVolumeTracker(row_col_config, do_load_full=True)"
   ]
  },
  {
   "cell_type": "code",
   "execution_count": 17,
   "metadata": {
    "scrolled": true
   },
   "outputs": [],
   "source": [
    "events_scores_no_exist, events_scores_exist = test_accuracies(model_full, events, samples=False)"
   ]
  },
  {
   "cell_type": "code",
   "execution_count": 18,
   "metadata": {
    "scrolled": true
   },
   "outputs": [
    {
     "data": {
      "text/plain": [
       "(0.00010434091612970746, 5.797893926080182e-05)"
      ]
     },
     "execution_count": 18,
     "metadata": {},
     "output_type": "execute_result"
    }
   ],
   "source": [
    "np.mean(events_scores_no_exist), np.mean(events_scores_exist)"
   ]
  },
  {
   "cell_type": "markdown",
   "metadata": {},
   "source": [
    "The scores for the model with LSTM motion model, dense association model and wihtout existence weighting unfortunately are not significantly above 0.0 for theta/phi bucketing."
   ]
  },
  {
   "cell_type": "markdown",
   "metadata": {},
   "source": [
    "## Theoretical accuracy"
   ]
  },
  {
   "cell_type": "code",
   "execution_count": 19,
   "metadata": {},
   "outputs": [
    {
     "name": "stdout",
     "output_type": "stream",
     "text": [
      "Creating model for volume Pixel.BARREL\n",
      "Creating model for volume Pixel.POSITIVE_EC\n",
      "Creating model for volume Pixel.NEGATIVE_EC\n",
      "Creating model for volume ShortStrip.BARREL\n",
      "Creating model for volume ShortStrip.POSITIVE_EC\n",
      "Creating model for volume ShortStrip.NEGATIVE_EC\n",
      "Creating model for volume LongStrip.BARREL\n",
      "Creating model for volume LongStrip.POSITIVE_EC\n",
      "Creating model for volume LongStrip.NEGATIVE_EC\n"
     ]
    }
   ],
   "source": [
    "model_predict = PredictionMultiVolumeTracker(row_col_config)"
   ]
  },
  {
   "cell_type": "code",
   "execution_count": 20,
   "metadata": {},
   "outputs": [],
   "source": [
    "events_scores_no_exist, events_scores_exist = test_accuracies(model_predict, events, samples=False)"
   ]
  },
  {
   "cell_type": "code",
   "execution_count": 21,
   "metadata": {},
   "outputs": [
    {
     "data": {
      "text/plain": [
       "(0.8160792257940486, 0.8161110596680053)"
      ]
     },
     "execution_count": 21,
     "metadata": {},
     "output_type": "execute_result"
    }
   ],
   "source": [
    "np.mean(events_scores_no_exist), np.mean(events_scores_exist)"
   ]
  },
  {
   "cell_type": "markdown",
   "metadata": {},
   "source": [
    "In theory, a perfect model would be able to score 0.816 using the phi/theta bucketing approach."
   ]
  },
  {
   "cell_type": "markdown",
   "metadata": {},
   "source": [
    "# Full tracks vs partial tracks"
   ]
  },
  {
   "cell_type": "code",
   "execution_count": 22,
   "metadata": {},
   "outputs": [],
   "source": [
    "events = ld.RootRangeDetectorFiles(start_range=1432, end_range=1480)\n",
    "events = ld.DerivedRangeDetectorFiles(create_from=events, derive_task=ld.CreateAngles)\n",
    "events = ld.DerivedRangeDetectorFiles(create_from=events, derive_task=ld.CreateNormalized)"
   ]
  },
  {
   "cell_type": "code",
   "execution_count": 23,
   "metadata": {},
   "outputs": [
    {
     "name": "stdout",
     "output_type": "stream",
     "text": [
      "Creating model for volume Pixel.BARREL\n",
      "Creating model for volume Pixel.POSITIVE_EC\n",
      "Creating model for volume Pixel.NEGATIVE_EC\n",
      "Creating model for volume ShortStrip.BARREL\n",
      "Creating model for volume ShortStrip.POSITIVE_EC\n",
      "Creating model for volume ShortStrip.NEGATIVE_EC\n",
      "Creating model for volume LongStrip.BARREL\n",
      "Creating model for volume LongStrip.POSITIVE_EC\n",
      "Creating model for volume LongStrip.NEGATIVE_EC\n"
     ]
    }
   ],
   "source": [
    "sampled_dense_assoc_lstm_motion_no_exist_weighting_model = FullMultiVolumeTracker(sampled_dense_assoc_lstm_motion_no_exist_weighting_config, do_load_full=True)"
   ]
  },
  {
   "cell_type": "markdown",
   "metadata": {},
   "source": [
    "## Full tracks"
   ]
  },
  {
   "cell_type": "code",
   "execution_count": 24,
   "metadata": {},
   "outputs": [],
   "source": [
    "events_scores_no_exist, events_scores_exist = test_accuracies(sampled_dense_assoc_lstm_motion_no_exist_weighting_model, events, score_only='full')"
   ]
  },
  {
   "cell_type": "code",
   "execution_count": 25,
   "metadata": {},
   "outputs": [
    {
     "data": {
      "text/plain": [
       "<matplotlib.axes._subplots.AxesSubplot at 0x7f086983d790>"
      ]
     },
     "execution_count": 25,
     "metadata": {},
     "output_type": "execute_result"
    },
    {
     "data": {
      "image/png": "[encoded data removed]",
      "text/plain": [
       "<Figure size 432x288 with 1 Axes>"
      ]
     },
     "metadata": {
      "needs_background": "light"
     },
     "output_type": "display_data"
    }
   ],
   "source": [
    "sns.distplot(events_scores_no_exist)"
   ]
  },
  {
   "cell_type": "code",
   "execution_count": 26,
   "metadata": {},
   "outputs": [
    {
     "data": {
      "text/plain": [
       "<matplotlib.axes._subplots.AxesSubplot at 0x7f08697b6b10>"
      ]
     },
     "execution_count": 26,
     "metadata": {},
     "output_type": "execute_result"
    },
    {
     "data": {
      "image/png": "[encoded data removed]",
      "text/plain": [
       "<Figure size 432x288 with 1 Axes>"
      ]
     },
     "metadata": {
      "needs_background": "light"
     },
     "output_type": "display_data"
    }
   ],
   "source": [
    "sns.distplot(events_scores_exist)"
   ]
  },
  {
   "cell_type": "code",
   "execution_count": 27,
   "metadata": {},
   "outputs": [
    {
     "data": {
      "text/plain": [
       "(0.8309780616292551, 0.8853870430335152)"
      ]
     },
     "execution_count": 27,
     "metadata": {},
     "output_type": "execute_result"
    }
   ],
   "source": [
    "np.mean(events_scores_no_exist), np.mean(events_scores_exist)"
   ]
  },
  {
   "cell_type": "markdown",
   "metadata": {},
   "source": [
    "When only considering tracks starting at the center of the detector and a particle count of 20, the model would be able to score an accuracy of 0.885."
   ]
  },
  {
   "cell_type": "markdown",
   "metadata": {},
   "source": [
    "## Partial Tracks"
   ]
  },
  {
   "cell_type": "code",
   "execution_count": 28,
   "metadata": {},
   "outputs": [],
   "source": [
    "events_scores_no_exist, events_scores_exist = test_accuracies(sampled_dense_assoc_lstm_motion_no_exist_weighting_model, events, score_only='detected')"
   ]
  },
  {
   "cell_type": "code",
   "execution_count": 29,
   "metadata": {},
   "outputs": [
    {
     "data": {
      "text/plain": [
       "<matplotlib.axes._subplots.AxesSubplot at 0x7f081bfaa1d0>"
      ]
     },
     "execution_count": 29,
     "metadata": {},
     "output_type": "execute_result"
    },
    {
     "data": {
      "image/png": "[encoded data removed]",
      "text/plain": [
       "<Figure size 432x288 with 1 Axes>"
      ]
     },
     "metadata": {
      "needs_background": "light"
     },
     "output_type": "display_data"
    }
   ],
   "source": [
    "sns.distplot(events_scores_no_exist)"
   ]
  },
  {
   "cell_type": "code",
   "execution_count": 30,
   "metadata": {},
   "outputs": [
    {
     "data": {
      "text/plain": [
       "<matplotlib.axes._subplots.AxesSubplot at 0x7f081bfb1490>"
      ]
     },
     "execution_count": 30,
     "metadata": {},
     "output_type": "execute_result"
    },
    {
     "data": {
      "image/png": "[encoded data removed]",
      "text/plain": [
       "<Figure size 432x288 with 1 Axes>"
      ]
     },
     "metadata": {
      "needs_background": "light"
     },
     "output_type": "display_data"
    }
   ],
   "source": [
    "sns.distplot(events_scores_exist)"
   ]
  },
  {
   "cell_type": "code",
   "execution_count": 31,
   "metadata": {},
   "outputs": [
    {
     "data": {
      "text/plain": [
       "(0.4026080837269441, 0.41936243565648834)"
      ]
     },
     "execution_count": 31,
     "metadata": {},
     "output_type": "execute_result"
    }
   ],
   "source": [
    "np.mean(events_scores_no_exist), np.mean(events_scores_exist)"
   ]
  },
  {
   "cell_type": "markdown",
   "metadata": {},
   "source": [
    "When only considering tracks that do not start from the center of the detector, the score is only at 0.420."
   ]
  },
  {
   "cell_type": "code",
   "execution_count": null,
   "metadata": {},
   "outputs": [],
   "source": []
  },
  {
   "cell_type": "code",
   "execution_count": null,
   "metadata": {},
   "outputs": [],
   "source": []
  }
 ],
 "metadata": {
  "kernelspec": {
   "display_name": "Python 3",
   "language": "python",
   "name": "python3"
  },
  "language_info": {
   "codemirror_mode": {
    "name": "ipython",
    "version": 3
   },
   "file_extension": ".py",
   "mimetype": "text/x-python",
   "name": "python",
   "nbconvert_exporter": "python",
   "pygments_lexer": "ipython3",
   "version": "3.7.5"
  },
  "pycharm": {
   "stem_cell": {
    "cell_type": "raw",
    "source": [],
    "metadata": {
     "collapsed": false
    }
   }
  }
 },
 "nbformat": 4,
 "nbformat_minor": 4
}